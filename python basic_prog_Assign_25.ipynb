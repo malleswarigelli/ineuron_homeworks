{
 "cells": [
  {
   "cell_type": "code",
   "execution_count": 1,
   "id": "57bb6880",
   "metadata": {},
   "outputs": [
    {
     "name": "stdout",
     "output_type": "stream",
     "text": [
      "0\n",
      "3\n",
      "2\n"
     ]
    }
   ],
   "source": [
    "'''Question1\n",
    "Create a function that takes three integer arguments (a, b, c) and returns the amount of integers which are of equal value.\n",
    "Examples\n",
    "equal(3, 4, 3) ➞ 2\n",
    "\n",
    "equal(1, 1, 1) ➞ 3\n",
    "\n",
    "equal(3, 4, 1) ➞ 0 \n",
    "Notes\n",
    "Your function must return 0, 2 or 3.'''\n",
    "\n",
    "\n",
    "def int_nums(a,b,c):\n",
    "    if a == b == c:\n",
    "        return 3\n",
    "    elif a == b or b == c or a == c:\n",
    "        return 2\n",
    "    else:\n",
    "        return 0\n",
    "print(int_nums(20,10,30))\n",
    "print(int_nums(5,5,5))\n",
    "print(int_nums(2,2,5))"
   ]
  },
  {
   "cell_type": "code",
   "execution_count": 2,
   "id": "32d07863",
   "metadata": {},
   "outputs": [
    {
     "name": "stdout",
     "output_type": "stream",
     "text": [
      "[('B', 2), ('C', 3), ('D', 1)]\n",
      "[('dislikes', 3), ('followers', 10), ('likes', 2)]\n"
     ]
    }
   ],
   "source": [
    "'''Question2\n",
    "Write a function that converts a dictionary into a list of keys-values tuples.\n",
    "Examples\n",
    "dict_to_list({\n",
    "  \"D\": 1,\n",
    "  \"B\": 2,\n",
    "  \"C\": 3\n",
    "}) ➞ [(\"B\", 2), (\"C\", 3), (\"D\", 1)]\n",
    "\n",
    "dict_to_list({\n",
    "  \"likes\": 2,\n",
    "  \"dislikes\": 3,\n",
    "  \"followers\": 10\n",
    "}) ➞ [(\"dislikes\", 3), (\"followers\", 10), (\"likes\", 2)]\n",
    "Notes\n",
    "Return the elements in the list in alphabetical order.\n",
    "'''\n",
    "\n",
    "def dict_to_list(dict):\n",
    "    '''function converts dictionary into list of key-value tuples'''\n",
    "    lst = []\n",
    "    for i in dict.items():\n",
    "        lst.append(i)\n",
    "        lst.sort()\n",
    "    return lst\n",
    "\n",
    "print(dict_to_list({\"D\": 1,\"B\": 2,  \"C\": 3}))\n",
    "print(dict_to_list({\"likes\": 2,  \"dislikes\": 3,  \"followers\": 10}))"
   ]
  },
  {
   "cell_type": "code",
   "execution_count": 42,
   "id": "1431424a",
   "metadata": {},
   "outputs": [
    {
     "name": "stdout",
     "output_type": "stream",
     "text": [
      "{'p': 'P', 's': 'S'}\n",
      "{'a': 'A', 'b': 'B', 'c': 'C'}\n",
      "{'a': 'A', 'v': 'V', 'y': 'Y', 'z': 'Z'}\n"
     ]
    }
   ],
   "source": [
    "'''Question3\n",
    "Write a function that creates a dictionary with each (key, value) pair being the (lower case, upper case) versions of a letter, respectively.\n",
    "Examples\n",
    "mapping([\"p\", \"s\"]) ➞ { \"p\": \"P\", \"s\": \"S\" }\n",
    "\n",
    "mapping([\"a\", \"b\", \"c\"]) ➞ { \"a\": \"A\", \"b\": \"B\", \"c\": \"C\" }\n",
    "\n",
    "mapping([\"a\", \"v\", \"y\", \"z\"]) ➞ { \"a\": \"A\", \"v\": \"V\", \"y\": \"Y\", \"z\": \"Z\" }\n",
    "Notes\n",
    "All of the letters in the input list will always be lowercase.\n",
    "'''\n",
    "\n",
    "def mapping(*lst):\n",
    "    '''function inputs list of lower case letters and generate dictionary with keys (lowercase letters) and values are upper case'''\n",
    "    dic={}\n",
    "    for sec in lst:\n",
    "        for ele in sec:\n",
    "            #print(ele)\n",
    "            dic[ele] = ele.upper()\n",
    "    return dic\n",
    "\n",
    "print(mapping([\"p\", \"s\"]))\n",
    "print(mapping([\"a\", \"b\", \"c\"]))\n",
    "print(mapping([\"a\", \"v\", \"y\", \"z\"]))"
   ]
  },
  {
   "cell_type": "code",
   "execution_count": 68,
   "id": "1a0d21c9",
   "metadata": {},
   "outputs": [
    {
     "data": {
      "text/plain": [
       "'chooso and cassorolo'"
      ]
     },
     "execution_count": 68,
     "metadata": {},
     "output_type": "execute_result"
    }
   ],
   "source": [
    "'''Question4\n",
    "Write a function, that replaces all vowels in a string with a specified vowel.\n",
    "Examples\n",
    "vow_replace(\"apples and bananas\", \"u\") ➞ upplus und bununus;\n",
    "vow_replace(\"cheese casserole\", \"o\") ➞ chooso cossorolo;\n",
    "vow_replace(\"stuffed jalapeno poppers\", \"e\") ➞ steffed jelepene peppers;\n",
    "Notes\n",
    "All words will be lowercase. Y is not considered a vowel.'''\n",
    "\n",
    "def vow_replace(string, vowel):\n",
    "    '''function replaces vowels @ every occurance in a string with a specified vowel (eg: 'a' to 'u')'''\n",
    "    vowels = ['a','e','i','o','u']\n",
    "    for let in string:\n",
    "        if let in vowels:\n",
    "            #print(let)\n",
    "            letter = string.replace(let, vowel)\n",
    "            #print(letter)\n",
    "        else:\n",
    "            letter = let\n",
    "    return letter\n",
    "\n",
    "vow_replace(\"cheese and casserole\", \"o\")"
   ]
  },
  {
   "cell_type": "code",
   "execution_count": 69,
   "id": "a4dc6ccb",
   "metadata": {},
   "outputs": [
    {
     "name": "stdout",
     "output_type": "stream",
     "text": [
      "oH wHaT a BeauTiFuL moRNiNg."
     ]
    }
   ],
   "source": [
    "'''Question5\n",
    "Create a function that takes a string as input and capitalizes a letter if its ASCII code is even\n",
    "and returns its lower case version if its ASCII code is odd.\n",
    "Examples\n",
    "ascii_capitalize(\"to be or not to be!\") ➞ \"To Be oR NoT To Be!\";\n",
    "ascii_capitalize(\"THE LITTLE MERMAID\") ➞ \"THe LiTTLe meRmaiD\";\n",
    "ascii_capitalize(\"Oh what a beautiful morning.\") ➞ \"oH wHaT a BeauTiFuL moRNiNg.\";'''\n",
    "\n",
    "def ascii_capitalize(string):\n",
    "    for let in string:\n",
    "        ASCII_code = ord(let)\n",
    "        if ASCII_code % 2 ==0:\n",
    "            letter = let.upper()\n",
    "        else:\n",
    "            letter = let.lower()\n",
    "        print(letter, end=\"\")\n",
    "ascii_capitalize(\"Oh what a beautiful morning.\")"
   ]
  }
 ],
 "metadata": {
  "kernelspec": {
   "display_name": "Python 3 (ipykernel)",
   "language": "python",
   "name": "python3"
  },
  "language_info": {
   "codemirror_mode": {
    "name": "ipython",
    "version": 3
   },
   "file_extension": ".py",
   "mimetype": "text/x-python",
   "name": "python",
   "nbconvert_exporter": "python",
   "pygments_lexer": "ipython3",
   "version": "3.9.13"
  }
 },
 "nbformat": 4,
 "nbformat_minor": 5
}
