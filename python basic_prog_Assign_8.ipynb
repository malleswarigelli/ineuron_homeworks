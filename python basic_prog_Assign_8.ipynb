{
 "cells": [
  {
   "cell_type": "code",
   "execution_count": 20,
   "id": "baeae842",
   "metadata": {},
   "outputs": [
    {
     "name": "stdout",
     "output_type": "stream",
     "text": [
      "[7, 10, 10]\n",
      "[11, 8, 10]\n",
      "[12, 10, 16]\n"
     ]
    }
   ],
   "source": [
    "'''\n",
    "1. Write a Python Program to Add Two Matrices?\n",
    "'''\n",
    "X= [[1,2,4],\n",
    "    [3 ,3,6],\n",
    "    [9 ,4,7]]\n",
    " \n",
    "Y = [[6,8,6],\n",
    "    [8,5,4],\n",
    "    [3,6,9]]\n",
    "\n",
    "result = [[0,0,0],\n",
    "        [0,0,0],\n",
    "        [0,0,0]]\n",
    "\n",
    "for i in range(len(X)):\n",
    "    for j in range(len(X[0])):\n",
    "        result[i][j] = X[i][j] + Y[i][j]\n",
    "\n",
    "for i in result:\n",
    "    print(i)"
   ]
  },
  {
   "cell_type": "code",
   "execution_count": 21,
   "id": "0330793d",
   "metadata": {},
   "outputs": [
    {
     "name": "stdout",
     "output_type": "stream",
     "text": [
      "[6, 16, 24]\n",
      "[24, 15, 24]\n",
      "[27, 24, 63]\n"
     ]
    }
   ],
   "source": [
    "'''\n",
    "2. Write a Python Program to Multiply Two Matrices?\n",
    "'''\n",
    "X= [[1,2,4],\n",
    "    [3 ,3,6],\n",
    "    [9 ,4,7]]\n",
    " \n",
    "Y = [[6,8,6],\n",
    "    [8,5,4],\n",
    "    [3,6,9]]\n",
    "\n",
    "result = [[0,0,0],\n",
    "        [0,0,0],\n",
    "        [0,0,0]]\n",
    "\n",
    "for i in range(len(X)):\n",
    "    for j in range(len(X[0])):\n",
    "        result[i][j] = X[i][j] * Y[i][j]\n",
    "\n",
    "for i in result:\n",
    "    print(i)"
   ]
  },
  {
   "cell_type": "code",
   "execution_count": 23,
   "id": "a5cb03cb",
   "metadata": {},
   "outputs": [
    {
     "name": "stdout",
     "output_type": "stream",
     "text": [
      "[1, 3, 5]\n",
      "[2, 4, 6]\n"
     ]
    }
   ],
   "source": [
    "''' \n",
    "3. Write a Python Program to Transpose a Matrix?\n",
    "'''\n",
    "#Original Matrix\n",
    "x = [[1,2],[3,4],[5,6]]\n",
    "result = [[0, 0, 0], [0, 0, 0]]\n",
    "# Iterate through rows\n",
    "for i in range(len(x)):\n",
    "    for j in range(len(x[0])):\n",
    "        result[j][i] = x[i][j]\n",
    "for r in result:\n",
    "    print(r)"
   ]
  },
  {
   "cell_type": "code",
   "execution_count": 11,
   "id": "50d012ea",
   "metadata": {},
   "outputs": [
    {
     "name": "stdout",
     "output_type": "stream",
     "text": [
      "['biscuits', 'but', 'dont', 'donuts', 'gelli,', 'is', 'like', 'like', 'malleswari', 'my', 'name', 'we']\n"
     ]
    }
   ],
   "source": [
    "'''\n",
    "4. Write a Python Program to Sort Words in Alphabetic Order?\n",
    "'''\n",
    "string = 'My name is Malleswari Gelli, we dont like donuts but like biscuits'\n",
    "words = string.lower().split(' ')\n",
    "print(sorted(words))    "
   ]
  },
  {
   "cell_type": "code",
   "execution_count": 3,
   "id": "92439cfc",
   "metadata": {},
   "outputs": [
    {
     "name": "stdout",
     "output_type": "stream",
     "text": [
      "My name is Malleswari Gelli we don like donuts but like biscuits\n"
     ]
    }
   ],
   "source": [
    "'''\n",
    "5. Write a Python Program to Remove Punctuation From a String?\n",
    "'''\n",
    "string = 'My name is Malleswari Gelli!, we don like donuts: but like biscuits;'\n",
    "\n",
    "punc = '''!()-[]{};:'\"\\,<>./?@#$%^&*_~'''\n",
    "\n",
    "for i in string:\n",
    "    if i in punc:\n",
    "        string = string.replace(i, \"\")\n",
    "print(string)"
   ]
  }
 ],
 "metadata": {
  "kernelspec": {
   "display_name": "Python 3 (ipykernel)",
   "language": "python",
   "name": "python3"
  },
  "language_info": {
   "codemirror_mode": {
    "name": "ipython",
    "version": 3
   },
   "file_extension": ".py",
   "mimetype": "text/x-python",
   "name": "python",
   "nbconvert_exporter": "python",
   "pygments_lexer": "ipython3",
   "version": "3.9.13"
  }
 },
 "nbformat": 4,
 "nbformat_minor": 5
}
