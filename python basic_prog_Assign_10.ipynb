{
 "cells": [
  {
   "cell_type": "code",
   "execution_count": 9,
   "id": "c39c3526",
   "metadata": {},
   "outputs": [
    {
     "name": "stdout",
     "output_type": "stream",
     "text": [
      "sum of the list numbers: 45\n"
     ]
    }
   ],
   "source": [
    "'''\n",
    "1. Write a Python program to find sum of elements in list?\n",
    "'''\n",
    "lst = [1,2,3,4,5,6,7,8,9]\n",
    "sum = 0\n",
    "for i in lst:\n",
    "    sum += i\n",
    "print('sum of the list numbers:', sum)"
   ]
  },
  {
   "cell_type": "code",
   "execution_count": 8,
   "id": "2797bccc",
   "metadata": {},
   "outputs": [
    {
     "name": "stdout",
     "output_type": "stream",
     "text": [
      "multiplier:3\n",
      "3 6 9 12 15 18 21 24 27 "
     ]
    }
   ],
   "source": [
    "'''\n",
    "2. Write a Python program to Multiply all numbers in the list?\n",
    "'''\n",
    "lst = [1,2,3,4,5,6,7,8,9]\n",
    "n = int(input('multiplier:'))\n",
    "for i in lst:\n",
    "    val = i * n\n",
    "    print(val, end=\" \")"
   ]
  },
  {
   "cell_type": "code",
   "execution_count": 12,
   "id": "1b5740e6",
   "metadata": {},
   "outputs": [
    {
     "name": "stdout",
     "output_type": "stream",
     "text": [
      "smallest num in list: 3\n"
     ]
    }
   ],
   "source": [
    "'''\n",
    "3. Write a Python program to find smallest number in a list?\n",
    "'''\n",
    "lst = [11,21,3,4,5,6,7,8,9]\n",
    "print('smallest num in list:', min(lst))"
   ]
  },
  {
   "cell_type": "code",
   "execution_count": 17,
   "id": "6360b705",
   "metadata": {},
   "outputs": [
    {
     "name": "stdout",
     "output_type": "stream",
     "text": [
      "21\n",
      "largest num in list: 21\n"
     ]
    }
   ],
   "source": [
    "'''\n",
    "4. Write a Python program to find largest number in a list?\n",
    "'''\n",
    "lst = [11,21,3,4,5,6,7,8,9]\n",
    "lst = sorted(lst)\n",
    "print(lst[-1])\n",
    "# or \n",
    "print('largest num in list:', max(lst))"
   ]
  },
  {
   "cell_type": "code",
   "execution_count": 18,
   "id": "e5cd8eb6",
   "metadata": {},
   "outputs": [
    {
     "name": "stdout",
     "output_type": "stream",
     "text": [
      "second largest number 11\n"
     ]
    }
   ],
   "source": [
    "'''\n",
    "5. Write a Python program to find second largest number in a list?\n",
    "'''\n",
    "lst = [11,21,3,4,5,6,7,8,9]\n",
    "lst = sorted(lst)\n",
    "print('second largest number', lst[-2])"
   ]
  },
  {
   "cell_type": "code",
   "execution_count": 24,
   "id": "2b22d618",
   "metadata": {},
   "outputs": [
    {
     "name": "stdout",
     "output_type": "stream",
     "text": [
      "N largest element:4\n",
      "[3, 4, 5, 6, 7, 8, 9, 11, 21]\n",
      "4 th largest number: 8\n"
     ]
    }
   ],
   "source": [
    "6. Write a Python program to find N largest elements from a list?\n",
    "lst = [11,21,3,4,5,6,7,8,9]\n",
    "n = int(input('N largest element:'))\n",
    "lst = sorted(lst)\n",
    "print(lst)\n",
    "print(n,'th','largest number:', lst[-n])"
   ]
  },
  {
   "cell_type": "code",
   "execution_count": 32,
   "id": "c39d5bef",
   "metadata": {},
   "outputs": [
    {
     "name": "stdout",
     "output_type": "stream",
     "text": [
      "[4, 6, 8]\n"
     ]
    }
   ],
   "source": [
    "'''\n",
    "7. Write a Python program to print even numbers in a list?\n",
    "'''\n",
    "lst = [11,21,3,4,5,6,7,8,9]\n",
    "print([i for i in lst if i % 2 == 0])\n",
    "     "
   ]
  },
  {
   "cell_type": "code",
   "execution_count": 31,
   "id": "5759c697",
   "metadata": {},
   "outputs": [
    {
     "name": "stdout",
     "output_type": "stream",
     "text": [
      "[11, 21, 3, 5, 7, 9]\n"
     ]
    }
   ],
   "source": [
    "'''\n",
    "8. Write a Python program to print odd numbers in a List?\n",
    "'''\n",
    "lst = [11,21,3,4,5,6,7,8,9]\n",
    "print([i for i in lst if i % 2 != 0])\n",
    "        "
   ]
  },
  {
   "cell_type": "code",
   "execution_count": 30,
   "id": "07836bf8",
   "metadata": {},
   "outputs": [
    {
     "name": "stdout",
     "output_type": "stream",
     "text": [
      "Object `List` not found.\n",
      "[1, 2, 3, 0, 'a', 'b']\n"
     ]
    }
   ],
   "source": [
    "9. Write a Python program to Remove empty List from List?\n",
    "lst = [1,2,3, [], 0, \"a\", [], [], \"b\"]\n",
    "print([i for i in lst if i != []])"
   ]
  },
  {
   "cell_type": "code",
   "execution_count": 33,
   "id": "801ed1d5",
   "metadata": {},
   "outputs": [
    {
     "name": "stdout",
     "output_type": "stream",
     "text": [
      "[11, 21, 3, 4, 5, 6, 7, 8, 9]\n"
     ]
    }
   ],
   "source": [
    "'''\n",
    "10. Write a Python program to Cloning or Copying a list?\n",
    "'''\n",
    "lst = [11,21,3,4,5,6,7,8,9]\n",
    "a = lst.copy()\n",
    "print(a)"
   ]
  },
  {
   "cell_type": "code",
   "execution_count": 39,
   "id": "c3c20691",
   "metadata": {},
   "outputs": [
    {
     "name": "stdout",
     "output_type": "stream",
     "text": [
      "element num:21\n",
      "21 has occured 3 times:\n"
     ]
    }
   ],
   "source": [
    "'''\n",
    "11. Write a Python program to Count occurrences of an element in a list?\n",
    "'''\n",
    "lst = [11,21,3,4,3,4,5,6,7,11,21,21,7,8,5,6,7,8,9]\n",
    "ele = int(input('element num:'))\n",
    "count = 0\n",
    "for i in lst:\n",
    "    if i == ele:\n",
    "        count += 1\n",
    "    \n",
    "print('{} has occured {} times:'.format(ele, count))"
   ]
  }
 ],
 "metadata": {
  "kernelspec": {
   "display_name": "Python 3 (ipykernel)",
   "language": "python",
   "name": "python3"
  },
  "language_info": {
   "codemirror_mode": {
    "name": "ipython",
    "version": 3
   },
   "file_extension": ".py",
   "mimetype": "text/x-python",
   "name": "python",
   "nbconvert_exporter": "python",
   "pygments_lexer": "ipython3",
   "version": "3.9.13"
  }
 },
 "nbformat": 4,
 "nbformat_minor": 5
}
