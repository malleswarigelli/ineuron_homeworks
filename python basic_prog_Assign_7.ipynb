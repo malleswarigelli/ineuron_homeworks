{
 "cells": [
  {
   "cell_type": "code",
   "execution_count": 1,
   "id": "1a7854e4",
   "metadata": {},
   "outputs": [
    {
     "name": "stdout",
     "output_type": "stream",
     "text": [
      "sum of array: 247\n"
     ]
    }
   ],
   "source": [
    "'''\n",
    "Write a Python Program to find sum of array?\n",
    "'''\n",
    "def add(arr, n):\n",
    "    return(sum(arr))\n",
    "arr = [13,24,37,54,58,61]\n",
    "n = len(arr)\n",
    "print('sum of array:', add(arr,n))"
   ]
  },
  {
   "cell_type": "code",
   "execution_count": 3,
   "id": "ac23997b",
   "metadata": {},
   "outputs": [
    {
     "name": "stdout",
     "output_type": "stream",
     "text": [
      "largest of array: 61\n"
     ]
    }
   ],
   "source": [
    "'''\n",
    "Write a Python Program to find largest element in an array?\n",
    "'''\n",
    "def large(arr):\n",
    "    return max(arr)\n",
    "arr = [13,24,37,54,58,61]\n",
    "print('largest of array:', large(arr))"
   ]
  },
  {
   "cell_type": "code",
   "execution_count": 4,
   "id": "306c0058",
   "metadata": {},
   "outputs": [
    {
     "name": "stdout",
     "output_type": "stream",
     "text": [
      "rotation of array: [61, 58, 54, 37, 24, 13]\n"
     ]
    }
   ],
   "source": [
    "'''\n",
    "Write a Python Program for array rotation?\n",
    "'''\n",
    "def rotate(arr):\n",
    "    return (arr[::-1])\n",
    "arr = [13,24,37,54,58,61]\n",
    "print('rotation of array:', rotate(arr))"
   ]
  },
  {
   "cell_type": "code",
   "execution_count": 42,
   "id": "df5c1233",
   "metadata": {},
   "outputs": [
    {
     "name": "stdout",
     "output_type": "stream",
     "text": [
      "24 37 54 58 61 13 "
     ]
    }
   ],
   "source": [
    "'''\n",
    "Write a Python Program to Split the array and add the first part to the end?\n",
    "'''\n",
    "arr = [13,24,37,54,58,61]\n",
    "pos = 1\n",
    "x = arr[:pos]\n",
    "y = arr[pos:]\n",
    "y.extend(x)\n",
    "for i in y:\n",
    "    print(i, end=\" \")"
   ]
  },
  {
   "cell_type": "code",
   "execution_count": 7,
   "id": "c3259a68",
   "metadata": {},
   "outputs": [
    {
     "name": "stdout",
     "output_type": "stream",
     "text": [
      "True\n",
      "False\n"
     ]
    }
   ],
   "source": [
    "'''\n",
    "Write a Python Program to check if given array is Monotonic?\n",
    "'''\n",
    "def ismonotonic(array):\n",
    "    x,y = [], []\n",
    "    x.extend(array)\n",
    "    y.extend(array)\n",
    "    x.sort()\n",
    "    y.sort(reverse=True)\n",
    "    \n",
    "    if (x==array or y==array):\n",
    "        return True\n",
    "    else:\n",
    "        return False\n",
    "print(ismonotonic([6,5,4,4]))\n",
    "print(ismonotonic([5,15,20,10]))"
   ]
  }
 ],
 "metadata": {
  "kernelspec": {
   "display_name": "Python 3 (ipykernel)",
   "language": "python",
   "name": "python3"
  },
  "language_info": {
   "codemirror_mode": {
    "name": "ipython",
    "version": 3
   },
   "file_extension": ".py",
   "mimetype": "text/x-python",
   "name": "python",
   "nbconvert_exporter": "python",
   "pygments_lexer": "ipython3",
   "version": "3.9.13"
  }
 },
 "nbformat": 4,
 "nbformat_minor": 5
}
