{
 "cells": [
  {
   "cell_type": "code",
   "execution_count": 29,
   "id": "bf25cb62",
   "metadata": {},
   "outputs": [
    {
     "name": "stdout",
     "output_type": "stream",
     "text": [
      "1 1 2 3 5 8 13 21 34 55 "
     ]
    }
   ],
   "source": [
    "'''\n",
    "1. Write a Python Program to Display Fibonacci Sequence Using Recursion?\n",
    "'''\n",
    "def fibonacci_rec(n):\n",
    "    if n <=1:\n",
    "        return 1\n",
    "    else:\n",
    "        return(fibonacci_rec(n-1)+fibonacci_rec(n-2))\n",
    "\n",
    "nterms = 10\n",
    "if nterms>=0:\n",
    "    for i in range(nterms):\n",
    "        print(fibonacci_rec(i), end=' ')"
   ]
  },
  {
   "cell_type": "code",
   "execution_count": 25,
   "id": "8a0aafe4",
   "metadata": {},
   "outputs": [
    {
     "name": "stdout",
     "output_type": "stream",
     "text": [
      "120\n",
      "24\n"
     ]
    }
   ],
   "source": [
    "'''\n",
    "2. Write a Python Program to Find Factorial of Number Using Recursion?\n",
    "'''\n",
    "def factorial(n):\n",
    "    lst = []\n",
    "    for i in range(n+1):\n",
    "        factor = n-i\n",
    "        if factor != 0:\n",
    "            lst.append(factor)\n",
    "  \n",
    "    result = 1\n",
    "    for fac in lst:\n",
    "        result = result * fac\n",
    "    return result\n",
    "print(factorial(5))\n",
    "print(factorial(4))"
   ]
  },
  {
   "cell_type": "code",
   "execution_count": 15,
   "id": "77816b48",
   "metadata": {},
   "outputs": [
    {
     "name": "stdout",
     "output_type": "stream",
     "text": [
      "Enter your weight in kg:60\n",
      "Enter your height in meters:5\n",
      "your BMI is: 2.4\n"
     ]
    }
   ],
   "source": [
    "'''\n",
    "3. Write a Python Program to calculate your Body Mass Index?\n",
    "'''\n",
    "weight = float(input('Enter your weight in kg:'))\n",
    "height = float(input('Enter your height in meters:'))\n",
    "\n",
    "BMI = weight/pow(height,2)\n",
    "print('your BMI is:', BMI)"
   ]
  },
  {
   "cell_type": "code",
   "execution_count": 5,
   "id": "5fb76d63",
   "metadata": {},
   "outputs": [
    {
     "name": "stdout",
     "output_type": "stream",
     "text": [
      "Enter number:10\n",
      "2.302585092994046\n",
      "2.302585092994046\n"
     ]
    }
   ],
   "source": [
    "'''\n",
    "4. Write a Python Program to calculate the natural logarithm of any number?\n",
    "'''\n",
    "n = int(input('Enter number:'))\n",
    "\n",
    "import math\n",
    "print(math.log(n))\n",
    "\n",
    "import numpy as np\n",
    "print(np.log(n))"
   ]
  },
  {
   "cell_type": "code",
   "execution_count": 11,
   "id": "9dcd67f9",
   "metadata": {},
   "outputs": [
    {
     "name": "stdout",
     "output_type": "stream",
     "text": [
      "enter n natural numbers:8\n",
      "1296\n"
     ]
    }
   ],
   "source": [
    "'''\n",
    "5. Write a Python Program for cube sum of first n natural numbers?\n",
    "'''\n",
    "n = int(input('enter n natural numbers:'))\n",
    "def cubesum(n):\n",
    "    count = 0\n",
    "    for i in range(1,n+1):\n",
    "        count += pow(i,3)\n",
    "    return count\n",
    "print(cubesum(n))"
   ]
  },
  {
   "cell_type": "code",
   "execution_count": 12,
   "id": "7599db46",
   "metadata": {},
   "outputs": [
    {
     "name": "stdout",
     "output_type": "stream",
     "text": [
      "1296\n"
     ]
    }
   ],
   "source": [
    "n = 8\n",
    "s = 0\n",
    "for i in range(1,n+1):\n",
    "    s += pow(i,3)\n",
    "print(s)"
   ]
  }
 ],
 "metadata": {
  "kernelspec": {
   "display_name": "Python 3 (ipykernel)",
   "language": "python",
   "name": "python3"
  },
  "language_info": {
   "codemirror_mode": {
    "name": "ipython",
    "version": 3
   },
   "file_extension": ".py",
   "mimetype": "text/x-python",
   "name": "python",
   "nbconvert_exporter": "python",
   "pygments_lexer": "ipython3",
   "version": "3.9.13"
  }
 },
 "nbformat": 4,
 "nbformat_minor": 5
}
