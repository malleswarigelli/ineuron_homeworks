{
 "cells": [
  {
   "cell_type": "raw",
   "id": "ed2b5926",
   "metadata": {},
   "source": [
    "Write a Python program to find words which are greater than given length k?\n",
    "Write a Python program for removing i-th character from a string?\n",
    "Write a Python program to split and join a string?\n",
    "Write a Python to check if a given string is binary string or not?\n",
    "Write a Python program to find uncommon words from two Strings?\n",
    "Write a Python to find all duplicate characters in string?\n",
    "Write a Python Program to check if a string contains any special character?\n"
   ]
  },
  {
   "cell_type": "code",
   "execution_count": 50,
   "id": "d630aba4",
   "metadata": {},
   "outputs": [
    {
     "name": "stdout",
     "output_type": "stream",
     "text": [
      "given word length:5\n",
      "Malleswari\n",
      "Gelli,\n",
      "DesMoines,\n"
     ]
    }
   ],
   "source": [
    "'''\n",
    "1. Write a Python program to find words which are greater than given length k?\n",
    "'''\n",
    "string = \"My name is Malleswari Gelli, we live in DesMoines, Iowa, USA. We have two kids\"\n",
    "k = int(input('given word length:'))\n",
    "words = string.split(' ')\n",
    "\n",
    "for word in words:\n",
    "    if len(word)>k:\n",
    "        print(word)\n"
   ]
  },
  {
   "cell_type": "code",
   "execution_count": 51,
   "id": "214715eb",
   "metadata": {},
   "outputs": [
    {
     "name": "stdout",
     "output_type": "stream",
     "text": [
      "enter i-th character to remove:8\n",
      "My name is Malleswari Gelli\n",
      "My name s Malleswari Gelli\n"
     ]
    }
   ],
   "source": [
    "'''\n",
    "2.Write a Python program for removing i-th character from a string?\n",
    "'''\n",
    "string = 'My name is Malleswari Gelli'\n",
    "n = int(input('enter i-th character to remove:'))\n",
    "new_str = ''\n",
    "for i in range(len(string)):\n",
    "    #print(i, string[i])\n",
    "    if i != n:\n",
    "        new_str = new_str + string[i]\n",
    "print(string)\n",
    "print(new_str)"
   ]
  },
  {
   "cell_type": "code",
   "execution_count": 35,
   "id": "9a6958f3",
   "metadata": {},
   "outputs": [
    {
     "name": "stdout",
     "output_type": "stream",
     "text": [
      "split string by space: ['My', 'name', 'is', 'Malleswari', 'Gelli']\n",
      "join string by space: My name is Malleswari Gelli\n"
     ]
    }
   ],
   "source": [
    "'''\n",
    "3.Write a Python program to split and join a string?\n",
    "'''\n",
    "\n",
    "string = 'My name is Malleswari Gelli'\n",
    "new = string.split(' ')\n",
    "print('split string by space:', new)\n",
    "print('join string by space:',' '.join(new))"
   ]
  },
  {
   "cell_type": "code",
   "execution_count": 25,
   "id": "d38144bc",
   "metadata": {},
   "outputs": [
    {
     "name": "stdout",
     "output_type": "stream",
     "text": [
      "01010101010\n",
      "string is binary\n"
     ]
    }
   ],
   "source": [
    "'''\n",
    "4.Write a Python to check if a given string is binary string or not?\n",
    "'''\n",
    "\n",
    "string = input()\n",
    "if (string.count('0')+string.count(\"1\")==len(string)):\n",
    "    print('string is binary')\n",
    "else:\n",
    "    print('string is not binary')"
   ]
  },
  {
   "cell_type": "code",
   "execution_count": 64,
   "id": "1c56fe9b",
   "metadata": {},
   "outputs": [
    {
     "name": "stdout",
     "output_type": "stream",
     "text": [
      "['Malleswari', 'husband', 'Konda,', 'Gelli,', 'Anji', 'Reddy']\n"
     ]
    }
   ],
   "source": [
    "'''\n",
    "5.Write a Python program to find uncommon words from two Strings?\n",
    "'''\n",
    "str1 = \"My name is Malleswari Gelli, we live in DesMoines, Iowa, USA. We have two kids\"\n",
    "str2 = \"My husband name is Anji Reddy Konda, we live in DesMoines, Iowa, USA. We have two kids\"\n",
    "\n",
    "str1=str1.split()\n",
    "str2=str2.split()\n",
    "uncommon=[]\n",
    "for i in str1:\n",
    "    if i not in str2:\n",
    "        uncommon.append(i)\n",
    "for i in str2:\n",
    "    if i not in str1:\n",
    "        uncommon.append(i)\n",
    "x=list(set(uncommon))\n",
    "print(x)\n",
    "\n"
   ]
  },
  {
   "cell_type": "code",
   "execution_count": 20,
   "id": "7eeb8234",
   "metadata": {},
   "outputs": [
    {
     "name": "stdout",
     "output_type": "stream",
     "text": [
      "b c 0 6 h 9\n"
     ]
    }
   ],
   "source": [
    "'''\n",
    "6.Write a Python to find all duplicate characters in string?\n",
    "'''\n",
    "string = 'AbcDbc0$667hIhJ(*!990'\n",
    "duplicate = []\n",
    "for i in string:\n",
    "    if string.count(i)>1:\n",
    "        if i not in duplicate:\n",
    "            duplicate.append(i)\n",
    "\n",
    "print(*duplicate)"
   ]
  },
  {
   "cell_type": "code",
   "execution_count": 21,
   "id": "b6c89442",
   "metadata": {},
   "outputs": [
    {
     "name": "stdout",
     "output_type": "stream",
     "text": [
      "$ ( * !\n"
     ]
    }
   ],
   "source": [
    "'''\n",
    "7.Write a Python Program to check if a string contains any special character?\n",
    "'''\n",
    "string = 'AbcDef0$67hIJ(*!90'\n",
    "special = []\n",
    "import re\n",
    "for i in string:\n",
    "    if not re.search(\"([a-zA-Z0-9])+\", i):\n",
    "        special.append(i)\n",
    "    else:\n",
    "        pass\n",
    "print(*special)"
   ]
  }
 ],
 "metadata": {
  "kernelspec": {
   "display_name": "Python 3 (ipykernel)",
   "language": "python",
   "name": "python3"
  },
  "language_info": {
   "codemirror_mode": {
    "name": "ipython",
    "version": 3
   },
   "file_extension": ".py",
   "mimetype": "text/x-python",
   "name": "python",
   "nbconvert_exporter": "python",
   "pygments_lexer": "ipython3",
   "version": "3.9.13"
  }
 },
 "nbformat": 4,
 "nbformat_minor": 5
}
