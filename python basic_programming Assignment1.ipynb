{
 "cells": [
  {
   "cell_type": "raw",
   "id": "02163d3b",
   "metadata": {},
   "source": [
    "Write a Python program to print \"Hello Python\"?\n",
    "Write a Python program to do arithmetical operations addition and division.?\n",
    "Write a Python program to find the area of a triangle?\n",
    "Write a Python program to swap two variables?\n",
    "Write a Python program to generate a random number?\n"
   ]
  },
  {
   "cell_type": "code",
   "execution_count": 1,
   "id": "d80c4a98",
   "metadata": {},
   "outputs": [
    {
     "name": "stdout",
     "output_type": "stream",
     "text": [
      "Hello Python\n"
     ]
    }
   ],
   "source": [
    "print('Hello Python')"
   ]
  },
  {
   "cell_type": "code",
   "execution_count": 4,
   "id": "8acfb368",
   "metadata": {},
   "outputs": [
    {
     "name": "stdout",
     "output_type": "stream",
     "text": [
      "divisoin of a and b is: 1.6666666666666667\n",
      "addition of a and b is: 16\n"
     ]
    }
   ],
   "source": [
    "a = 10\n",
    "b =6\n",
    "print('divisoin of a and b is:',a/b)\n",
    "print('addition of a and b is:', a+b)"
   ]
  },
  {
   "cell_type": "code",
   "execution_count": 6,
   "id": "66622d2f",
   "metadata": {},
   "outputs": [
    {
     "name": "stdout",
     "output_type": "stream",
     "text": [
      "64.0\n"
     ]
    }
   ],
   "source": [
    "length = 16\n",
    "height = 8\n",
    "Area = (length * height)/2\n",
    "print(Area)"
   ]
  },
  {
   "cell_type": "code",
   "execution_count": 10,
   "id": "aedadc0a",
   "metadata": {},
   "outputs": [
    {
     "name": "stdout",
     "output_type": "stream",
     "text": [
      "new a value: 8\n",
      "new b value: 10\n"
     ]
    }
   ],
   "source": [
    "a= 10\n",
    "b = 8\n",
    "a, b = b, a\n",
    "print('new a value:', a)\n",
    "print('new b value:', b)"
   ]
  },
  {
   "cell_type": "code",
   "execution_count": 17,
   "id": "10e9dbeb",
   "metadata": {},
   "outputs": [
    {
     "name": "stdout",
     "output_type": "stream",
     "text": [
      "random number: 0.8132098282289709\n"
     ]
    }
   ],
   "source": [
    "print('random number:', random.random())"
   ]
  }
 ],
 "metadata": {
  "kernelspec": {
   "display_name": "Python 3 (ipykernel)",
   "language": "python",
   "name": "python3"
  },
  "language_info": {
   "codemirror_mode": {
    "name": "ipython",
    "version": 3
   },
   "file_extension": ".py",
   "mimetype": "text/x-python",
   "name": "python",
   "nbconvert_exporter": "python",
   "pygments_lexer": "ipython3",
   "version": "3.9.13"
  }
 },
 "nbformat": 4,
 "nbformat_minor": 5
}
