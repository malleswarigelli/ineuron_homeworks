{
 "cells": [
  {
   "cell_type": "code",
   "execution_count": 1,
   "id": "d1a89cd9",
   "metadata": {},
   "outputs": [
    {
     "name": "stdout",
     "output_type": "stream",
     "text": [
      "seq:100,150,180\n",
      "[18, 22, 24]\n"
     ]
    }
   ],
   "source": [
    "'''\n",
    "Question 1:\n",
    "Write a program that calculates and prints the value according to the given formula:\n",
    "Q = Square root of [(2 * C * D)/H]\n",
    "Following are the fixed values of C and H:\n",
    "C is 50. H is 30.\n",
    "D is the variable whose values should be input to your program in a comma-separated\n",
    "sequence.\n",
    "Example\n",
    "Let us assume the following comma separated input sequence is given to the program:\n",
    "100,150,180\n",
    "The output of the program should be:\n",
    "18,22,24\n",
    "\n",
    "'''\n",
    "import math\n",
    "C, H = 50, 30\n",
    "#print(C,H)\n",
    "D = input('seq:').split(',')\n",
    "Q = []\n",
    "\n",
    "for i in D:\n",
    "    i = int(i)\n",
    "    Q.append(int(math.sqrt((2 * C *i)/H)))\n",
    "\n",
    "print(Q, sep = ',')"
   ]
  },
  {
   "cell_type": "code",
   "execution_count": 59,
   "id": "c99cd4fe",
   "metadata": {},
   "outputs": [
    {
     "name": "stdout",
     "output_type": "stream",
     "text": [
      "rows and columns: 3,5\n",
      "[[0, 0, 0, 0, 0], [0, 1, 2, 3, 4], [0, 2, 4, 6, 8]]\n"
     ]
    }
   ],
   "source": [
    "'''\n",
    "Question 2:\n",
    "Write a program which takes 2 digits, X,Y as input and generates a 2-dimensional array. The element value in the i-th row and j-th column of the array should be i*j.\n",
    "Note: i=0,1.., X-1; j=0,1,¡Y-1.\n",
    "\n",
    "Example\n",
    "Suppose the following inputs are given to the program:\n",
    "3,5\n",
    "Then, the output of the program should be:\n",
    "[[0, 0, 0, 0, 0], [0, 1, 2, 3, 4], [0, 2, 4, 6, 8]] \n",
    "\n",
    "'''\n",
    "rows, cols = input(\"rows and columns: \").split(\",\")\n",
    "rows = int(rows)\n",
    "cols = int(cols)\n",
    "\n",
    "grid = []\n",
    "for x in range(rows):\n",
    "    row = []\n",
    "    for y in range(cols):\n",
    "        row.append(x * y)\n",
    "    grid.append(row)\n",
    "\n",
    "print(grid)"
   ]
  },
  {
   "cell_type": "code",
   "execution_count": 6,
   "id": "f9d9948b",
   "metadata": {},
   "outputs": [
    {
     "name": "stdout",
     "output_type": "stream",
     "text": [
      "without,hello,bag,world\n",
      "bag,hello,without,world\n"
     ]
    }
   ],
   "source": [
    "'''\n",
    "Question 3:\n",
    "Write a program that accepts a comma separated sequence of words as input and prints the words in a comma-separated sequence after sorting them alphabetically.\n",
    "Suppose the following input is supplied to the program:\n",
    "without,hello,bag,world\n",
    "Then, the output should be:\n",
    "\n",
    "bag,hello,without,world\n",
    "\n",
    "'''\n",
    "inp = input().split(',')\n",
    "inp = sorted(inp)\n",
    "print(','.join(inp))"
   ]
  },
  {
   "cell_type": "code",
   "execution_count": 22,
   "id": "b2dc846f",
   "metadata": {},
   "outputs": [
    {
     "name": "stdout",
     "output_type": "stream",
     "text": [
      "hello world and practice makes perfect and hello world again\n",
      "again and hello makes perfect practice world\n"
     ]
    }
   ],
   "source": [
    "'''\n",
    "Question 4:\n",
    "Write a program that accepts a sequence of whitespace separated words as input and prints the words after removing all duplicate words and sorting them alphanumerically.\n",
    "Suppose the following input is supplied to the program:\n",
    "hello world and practice makes perfect and hello world again\n",
    "Then, the output should be:\n",
    "again and hello makes perfect practice world\n",
    "\n",
    "'''\n",
    "seq = input().split(' ') # variable takes input and split words by space\n",
    "val = list(set(seq)) # generates list of unique words\n",
    "val1 = sorted(val) # sort words alphabetically\n",
    "print(' '.join(val1)) # join sorted words by space\n"
   ]
  },
  {
   "cell_type": "code",
   "execution_count": 28,
   "id": "02bcd26e",
   "metadata": {},
   "outputs": [
    {
     "name": "stdout",
     "output_type": "stream",
     "text": [
      "hello world! 123\n",
      "LETTERS 10\n",
      "DIGITS 3\n"
     ]
    }
   ],
   "source": [
    "'''\n",
    "Question 5:\n",
    "Write a program that accepts a sentence and calculate the number of letters and digits.\n",
    "Suppose the following input is supplied to the program:\n",
    "hello world! 123\n",
    "Then, the output should be:\n",
    "LETTERS 10\n",
    "DIGITS 3\n",
    "'''\n",
    "sent = input().split(' ')\n",
    "Letters = 0\n",
    "Digits = 0\n",
    "for word in sent:\n",
    "    for let in word:\n",
    "        \n",
    "        if let.isdigit():\n",
    "            Digits += 1\n",
    "        elif let.isalpha():\n",
    "            Letters += 1\n",
    "        else:\n",
    "            pass\n",
    "print('LETTERS', Letters)\n",
    "print('DIGITS', Digits)\n",
    "        \n",
    "        "
   ]
  },
  {
   "cell_type": "code",
   "execution_count": 53,
   "id": "58f0c4ca",
   "metadata": {},
   "outputs": [
    {
     "name": "stdout",
     "output_type": "stream",
     "text": [
      "ABd1234@1,a F1#,2w3E*,2We3345\n",
      "['ABd1234@1']\n"
     ]
    }
   ],
   "source": [
    "'''\n",
    "Question 6:\n",
    "A website requires the users to input username and password to register. Write a program to check the validity of password input by users.\n",
    "Following are the criteria for checking the password:\n",
    "1. At least 1 letter between [a-z]\n",
    "2. At least 1 number between [0-9]\n",
    "1. At least 1 letter between [A-Z]\n",
    "3. At least 1 character from [$#@]\n",
    "4. Minimum length of transaction password: 6\n",
    "5. Maximum length of transaction password: 12\n",
    "Your program should accept a sequence of comma separated passwords and will check them according to the above criteria. Passwords that match the criteria are to be printed, each separated by a comma.\n",
    "\n",
    "Example\n",
    "If the following passwords are given as input to the program:\n",
    "ABd1234@1,a F1#,2w3E*,2We3345\n",
    "Then, the output of the program should be:\n",
    "ABd1234@1\n",
    "'''\n",
    "\n",
    "import re\n",
    "inp = input().split(',')\n",
    "correct_pass = []\n",
    "for word in inp:\n",
    "    if len(word)<6 or len(word)>12:\n",
    "        continue\n",
    "    elif not re.search(\"([a-z])+\", word):\n",
    "        continue\n",
    "    elif not re.search(\"([A-Z])+\", word):\n",
    "        continue   \n",
    "    elif not re.search(\"([0-9])+\", word):\n",
    "        continue\n",
    "    elif not re.search(\"([$#@])+\", word):\n",
    "        continue\n",
    "    else:\n",
    "        correct_pass.append(word)\n",
    "print(correct_pass)\n"
   ]
  }
 ],
 "metadata": {
  "kernelspec": {
   "display_name": "Python 3 (ipykernel)",
   "language": "python",
   "name": "python3"
  },
  "language_info": {
   "codemirror_mode": {
    "name": "ipython",
    "version": 3
   },
   "file_extension": ".py",
   "mimetype": "text/x-python",
   "name": "python",
   "nbconvert_exporter": "python",
   "pygments_lexer": "ipython3",
   "version": "3.9.13"
  }
 },
 "nbformat": 4,
 "nbformat_minor": 5
}
