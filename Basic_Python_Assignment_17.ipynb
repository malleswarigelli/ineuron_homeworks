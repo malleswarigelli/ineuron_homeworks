{
 "cells": [
  {
   "cell_type": "markdown",
   "id": "d71eb6a3",
   "metadata": {},
   "source": [
    "# Basic_Python_Assignment_17"
   ]
  },
  {
   "cell_type": "markdown",
   "id": "f61ccad7",
   "metadata": {},
   "source": [
    "## 1. Assign the value 7 to the variable guess_me. Then, write the conditional tests (if, else, and elif) to print the string 'too low' if guess_me is less than 7, 'too high' if greater than 7, and 'just right' if equal to 7."
   ]
  },
  {
   "cell_type": "code",
   "execution_count": 1,
   "id": "3d4f83bb",
   "metadata": {},
   "outputs": [
    {
     "name": "stdout",
     "output_type": "stream",
     "text": [
      "just right\n"
     ]
    }
   ],
   "source": [
    "guess_me  = 7\n",
    "if guess_me < 7:\n",
    "    print ('too low')\n",
    "elif guess_me > 7:\n",
    "    print('too high')\n",
    "else:\n",
    "    print('just right')\n"
   ]
  },
  {
   "cell_type": "markdown",
   "id": "927001d3",
   "metadata": {},
   "source": [
    "## 2. Assign the value 7 to the variable guess_me and the value 1 to the variable start. Write a while loop that compares start with guess_me. Print too low if start is less than guess me. If start equals guess_me, print 'found it!' and exit the loop. If start is greater than guess_me, print 'oops' and exit the loop. Increment start at the end of the loop."
   ]
  },
  {
   "cell_type": "code",
   "execution_count": 2,
   "id": "134279ec",
   "metadata": {},
   "outputs": [
    {
     "name": "stdout",
     "output_type": "stream",
     "text": [
      "1\n",
      "too low\n",
      "2\n",
      "too low\n",
      "3\n",
      "too low\n",
      "4\n",
      "too low\n",
      "5\n",
      "too low\n",
      "6\n",
      "too low\n",
      "found it!\n",
      "Loop ended!\n"
     ]
    }
   ],
   "source": [
    "guess_me  = 7\n",
    "start = 1\n",
    "while start < guess_me:\n",
    "    print(start)\n",
    "    print('too low')\n",
    "    start = start + 1\n",
    "    \n",
    "    if start == guess_me:\n",
    "        print('found it!')\n",
    "        break     \n",
    "        \n",
    "else: \n",
    "    print('oops')\n",
    "\n",
    "    \n",
    "print('Loop ended!')"
   ]
  },
  {
   "cell_type": "markdown",
   "id": "a4329c48",
   "metadata": {},
   "source": [
    "## 3. Print the following values of the list [3, 2, 1, 0] using a for loop."
   ]
  },
  {
   "cell_type": "code",
   "execution_count": 3,
   "id": "09bafc09",
   "metadata": {},
   "outputs": [
    {
     "name": "stdout",
     "output_type": "stream",
     "text": [
      "3\n",
      "2\n",
      "1\n",
      "0\n"
     ]
    }
   ],
   "source": [
    "for i in [3,2,1,0]:\n",
    "    print(i)"
   ]
  },
  {
   "cell_type": "markdown",
   "id": "d2eef47b",
   "metadata": {},
   "source": [
    "## 4. Use a list comprehension to make a list of the even numbers in range(10)"
   ]
  },
  {
   "cell_type": "code",
   "execution_count": 4,
   "id": "023fcf9d",
   "metadata": {},
   "outputs": [
    {
     "data": {
      "text/plain": [
       "[0, 1, 2, 3, 4, 5, 6, 7, 8, 9]"
      ]
     },
     "execution_count": 4,
     "metadata": {},
     "output_type": "execute_result"
    }
   ],
   "source": [
    "[i for i in range(10)]"
   ]
  },
  {
   "cell_type": "markdown",
   "id": "3c8f9d31",
   "metadata": {},
   "source": [
    "## 5. Use a dictionary comprehension to create the dictionary squares. Use range(10) to return the keys, and use the square of each key as its value."
   ]
  },
  {
   "cell_type": "code",
   "execution_count": 16,
   "id": "46c21a00",
   "metadata": {},
   "outputs": [
    {
     "name": "stdout",
     "output_type": "stream",
     "text": [
      "keys: [0, 1, 2, 3, 4, 5, 6, 7, 8, 9]\n",
      "values: [0, 1, 4, 9, 16, 25, 36, 49, 64, 81]\n",
      "dictionary of integers and their squares: {0: 0, 1: 1, 2: 4, 3: 9, 4: 16, 5: 25, 6: 36, 7: 49, 8: 64, 9: 81}\n"
     ]
    }
   ],
   "source": [
    "# create empty dictionary\n",
    "dic ={}\n",
    "\n",
    "# list of keys range from 0 to 9\n",
    "keys = [i for i in range(10)]\n",
    "print('keys:', keys)\n",
    "\n",
    "# list of squares of range from 0 to 9\n",
    "vals = [i**2 for i in range(10)]\n",
    "print('values:', vals)\n",
    "\n",
    "# dict comprehension\n",
    "for k,v in zip(keys, vals):\n",
    "    dic[k] = v\n",
    "\n",
    "print('dictionary of integers and their squares:', dic)"
   ]
  },
  {
   "cell_type": "markdown",
   "id": "8cafb602",
   "metadata": {},
   "source": [
    "## 6. Construct the set odd from the odd numbers in the range using a set comprehension (10)."
   ]
  },
  {
   "cell_type": "code",
   "execution_count": 18,
   "id": "29a49027",
   "metadata": {},
   "outputs": [
    {
     "data": {
      "text/plain": [
       "{1, 3, 5, 7, 9}"
      ]
     },
     "execution_count": 18,
     "metadata": {},
     "output_type": "execute_result"
    }
   ],
   "source": [
    "odd =set([i for i in range(10) if i % 2 != 0])\n",
    "odd"
   ]
  },
  {
   "cell_type": "markdown",
   "id": "7f4af6a3",
   "metadata": {},
   "source": [
    "## 7. Use a generator comprehension to return the string 'Got ' and a number for the numbers in range(10). Iterate through this by using a for loop."
   ]
  },
  {
   "cell_type": "code",
   "execution_count": 33,
   "id": "070ea383",
   "metadata": {},
   "outputs": [
    {
     "name": "stdout",
     "output_type": "stream",
     "text": [
      "Generator object: <generator object gen_comp at 0x000001C68A41B510>\n"
     ]
    }
   ],
   "source": [
    "def gen_comp():\n",
    "    # create generator\n",
    "    for i in range(10):\n",
    "        yield 'Got', i\n",
    "print('Generator object:', gen_comp())"
   ]
  },
  {
   "cell_type": "code",
   "execution_count": 34,
   "id": "badf7ca9",
   "metadata": {},
   "outputs": [
    {
     "name": "stdout",
     "output_type": "stream",
     "text": [
      "('Got', 0)\n",
      "('Got', 1)\n",
      "('Got', 2)\n",
      "('Got', 3)\n",
      "('Got', 4)\n",
      "('Got', 5)\n",
      "('Got', 6)\n",
      "('Got', 7)\n",
      "('Got', 8)\n",
      "('Got', 9)\n"
     ]
    }
   ],
   "source": [
    "# iterate over generator\n",
    "for i in gen_comp():\n",
    "    print(i)"
   ]
  },
  {
   "cell_type": "markdown",
   "id": "cec6ca21",
   "metadata": {},
   "source": [
    "## 8. Define a function called good that returns the list ['Harry', 'Ron', 'Hermione']."
   ]
  },
  {
   "cell_type": "code",
   "execution_count": 37,
   "id": "264a990f",
   "metadata": {},
   "outputs": [],
   "source": [
    "def good():\n",
    "    return ['Harry', 'Ron', 'Hermione']"
   ]
  },
  {
   "cell_type": "code",
   "execution_count": 38,
   "id": "37ba44ed",
   "metadata": {},
   "outputs": [
    {
     "data": {
      "text/plain": [
       "['Harry', 'Ron', 'Hermione']"
      ]
     },
     "execution_count": 38,
     "metadata": {},
     "output_type": "execute_result"
    }
   ],
   "source": [
    "good()"
   ]
  },
  {
   "cell_type": "markdown",
   "id": "6db2003e",
   "metadata": {},
   "source": [
    "## 9. Define a generator function called get_odds that returns the odd numbers from range(10). Use a for loop to find and print the third value returned."
   ]
  },
  {
   "cell_type": "code",
   "execution_count": 39,
   "id": "948f8bbb",
   "metadata": {},
   "outputs": [
    {
     "name": "stdout",
     "output_type": "stream",
     "text": [
      "Odd numbers generator: <generator object get_odds at 0x000001C68A41BB30>\n"
     ]
    }
   ],
   "source": [
    "def get_odds():\n",
    "    # odd numbers generator\n",
    "    for i in range(10):\n",
    "        if (i % 2 != 0):\n",
    "            yield i\n",
    "print('Odd numbers generator:', get_odds())"
   ]
  },
  {
   "cell_type": "code",
   "execution_count": 47,
   "id": "ac82eaf9",
   "metadata": {},
   "outputs": [
    {
     "name": "stdout",
     "output_type": "stream",
     "text": [
      "[1, 3, 5, 7, 9]\n",
      "Third odd number is: 5\n"
     ]
    }
   ],
   "source": [
    "lst = []\n",
    "for x in get_odds():\n",
    "    lst.append(x)\n",
    "print(lst)    \n",
    "print('Third odd number is:', lst[2])"
   ]
  },
  {
   "cell_type": "markdown",
   "id": "74fc259c",
   "metadata": {},
   "source": [
    "## 10. Define an exception called OopsException. Raise this exception to see what happens. Then write the code to catch this exception and print 'Caught an oops'.\n"
   ]
  },
  {
   "cell_type": "code",
   "execution_count": 49,
   "id": "61d96789",
   "metadata": {},
   "outputs": [
    {
     "name": "stdout",
     "output_type": "stream",
     "text": [
      "OopsException raised\n",
      "Caught in oops\n"
     ]
    }
   ],
   "source": [
    "try:\n",
    "    with open('file.txt') as infile:\n",
    "        file = csv.reader(infile)\n",
    "\n",
    "except Exception as OopsException:\n",
    "    print('OopsException raised')\n",
    "    print('Caught in oops')\n",
    "    "
   ]
  },
  {
   "cell_type": "markdown",
   "id": "613aafb0",
   "metadata": {},
   "source": [
    "## 11. Use zip() to make a dictionary called movies that pairs these lists: titles = ['Creature of Habit', 'Crewel Fate'] and plots = ['A nun turns into a monster', 'A haunted yarn shop']."
   ]
  },
  {
   "cell_type": "code",
   "execution_count": 51,
   "id": "80f0bba5",
   "metadata": {},
   "outputs": [
    {
     "name": "stdout",
     "output_type": "stream",
     "text": [
      "{'Creature of Habit': 'A nun turns into a monster', 'Crewel Fate': 'A haunted yarn shop'}\n"
     ]
    }
   ],
   "source": [
    "titles = ['Creature of Habit', 'Crewel Fate']\n",
    "plots = ['A nun turns into a monster', 'A haunted yarn shop']\n",
    "\n",
    "dic = {}\n",
    "for k, v in zip(titles, plots):\n",
    "    dic[k] = v\n",
    "    \n",
    "print(dic)"
   ]
  }
 ],
 "metadata": {
  "kernelspec": {
   "display_name": "Python 3 (ipykernel)",
   "language": "python",
   "name": "python3"
  },
  "language_info": {
   "codemirror_mode": {
    "name": "ipython",
    "version": 3
   },
   "file_extension": ".py",
   "mimetype": "text/x-python",
   "name": "python",
   "nbconvert_exporter": "python",
   "pygments_lexer": "ipython3",
   "version": "3.9.13"
  }
 },
 "nbformat": 4,
 "nbformat_minor": 5
}
