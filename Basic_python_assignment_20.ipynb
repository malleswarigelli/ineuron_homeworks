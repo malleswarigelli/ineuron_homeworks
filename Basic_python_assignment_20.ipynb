{
 "cells": [
  {
   "cell_type": "markdown",
   "id": "565d75d5",
   "metadata": {},
   "source": [
    "# Basic_python_assignment_20"
   ]
  },
  {
   "cell_type": "markdown",
   "id": "cd441f14",
   "metadata": {},
   "source": [
    "## 1. Set the variable test1 to the string 'This is a test of the emergency text system,' and save test1 to a file named test.txt."
   ]
  },
  {
   "cell_type": "code",
   "execution_count": 1,
   "id": "e4366848",
   "metadata": {},
   "outputs": [
    {
     "name": "stdout",
     "output_type": "stream",
     "text": [
      "This is a test of the emergency text system,\n"
     ]
    }
   ],
   "source": [
    "test1 = 'This is a test of the emergency text system,' \n",
    "with open('test.txt','w+') as outfile:\n",
    "    outfile.write(test1)\n",
    "print(test1)"
   ]
  },
  {
   "cell_type": "markdown",
   "id": "50d198a0",
   "metadata": {},
   "source": [
    "## 2. Read the contents of the file test.txt into the variable test2. Is there a difference between test 1 and test 2?\n"
   ]
  },
  {
   "cell_type": "code",
   "execution_count": 2,
   "id": "ae181871",
   "metadata": {},
   "outputs": [
    {
     "name": "stdout",
     "output_type": "stream",
     "text": [
      "This is a test of the emergency text system,\n"
     ]
    }
   ],
   "source": [
    "with open('test.txt', 'r+') as infile:\n",
    "    test2 = infile.read()\n",
    "print(test2)"
   ]
  },
  {
   "cell_type": "markdown",
   "id": "2e262450",
   "metadata": {},
   "source": [
    "## 3. Create a CSV file called books.csv by using these lines:\n",
    "title,author,year\n",
    "The Weirdstone of Brisingamen,Alan Garner,1960\n",
    "Perdido Street Station,China Miéville,2000\n",
    "Thud!,Terry Pratchett,2005\n",
    "The Spellman Files,Lisa Lutz,2007\n",
    "Small Gods,Terry Pratchett,1992\n"
   ]
  },
  {
   "cell_type": "code",
   "execution_count": 9,
   "id": "2b82b517",
   "metadata": {},
   "outputs": [],
   "source": [
    "import csv \n",
    "        \n",
    "with open('books.csv', 'w', newline='') as csvfile:\n",
    "    writer = csv.writer(csvfile)\n",
    "    writer.writerow(['title','author','year'])\n",
    "    writer.writerow(['The Weirdstone of Brisingamen','Alan Garner',1960])\n",
    "    writer.writerow(['Perdido Street Station','China Miéville',2000])\n",
    "    writer.writerow(['Thud!','Terry Pratchett',2005])\n",
    "    writer.writerow(['The Spellman Files','Lisa Lutz',2007])\n",
    "    writer.writerow(['Small Gods','Terry Pratchett',1992])   \n",
    "    "
   ]
  },
  {
   "cell_type": "code",
   "execution_count": 10,
   "id": "67b13b8b",
   "metadata": {},
   "outputs": [
    {
     "name": "stdout",
     "output_type": "stream",
     "text": [
      "['title', 'author', 'year']\n",
      "[\"['The Weirdstone of Brisingamen', 'Alan Garner', 1960]\", \"['Perdido Street Station', 'China Miéville', 2000]\", \"['Thud!', 'Terry Pratchett', 2005]\", \"['The Spellman Files', 'Lisa Lutz', 2007]\", \"['Small Gods', 'Terry Pratchett', 1992]\"]\n"
     ]
    }
   ],
   "source": [
    "with open('books1.csv', 'r') as infile:\n",
    "    data = csv.reader(infile)\n",
    "    for line in data:\n",
    "        print(line)\n",
    "#         if index > 0:\n",
    "#             cursor.execute(\"insert into books values(row))\n",
    "            \n",
    "        "
   ]
  },
  {
   "cell_type": "markdown",
   "id": "2752137a",
   "metadata": {},
   "source": [
    "## 4. Use the sqlite3 module to create a SQLite database called books.db, and a table called books with these fields: title (text), author (text), and year (integer)."
   ]
  },
  {
   "cell_type": "code",
   "execution_count": 11,
   "id": "7493ef3a",
   "metadata": {},
   "outputs": [
    {
     "data": {
      "text/plain": [
       "<sqlite3.Cursor at 0x23a36ad7490>"
      ]
     },
     "execution_count": 11,
     "metadata": {},
     "output_type": "execute_result"
    }
   ],
   "source": [
    "import csv\n",
    "import sqlite3\n",
    "\n",
    "# Establish sqlite3 connection \n",
    "db1 = sqlite3.connect('books.db')\n",
    "\n",
    "# creating cursor object to execute SQL queries on database table\n",
    "cur = db1.cursor()\n",
    "\n",
    "# drop table if exists\n",
    "cur.execute(\"drop table if exists books\")\n",
    "\n",
    "# create table in database with headers title, author, year\n",
    "cur.execute(\"create table books(title CHAR (50), author VARCHAR (30), year int (8))\")\n"
   ]
  },
  {
   "cell_type": "markdown",
   "id": "e75dc229",
   "metadata": {},
   "source": [
    "## 5. Read books.csv and insert its data into the book table."
   ]
  },
  {
   "cell_type": "code",
   "execution_count": 12,
   "id": "deba9b2d",
   "metadata": {},
   "outputs": [
    {
     "name": "stdout",
     "output_type": "stream",
     "text": [
      "('The Weirdstone of Brisingamen', 'Alan Garner', 1960)\n",
      "('Perdido Street Station', 'China Miéville', 2000)\n",
      "('Thud!', 'Terry Pratchett', 2005)\n",
      "('The Spellman Files', 'Lisa Lutz', 2007)\n",
      "('Small Gods', 'Terry Pratchett', 1992)\n"
     ]
    }
   ],
   "source": [
    "# open csv file and read content\n",
    "import csv\n",
    "\n",
    "with open('books.csv') as csvfile:\n",
    "    csv_reader = csv.reader(csvfile)\n",
    "    header = next(csv_reader) # slice the header row\n",
    "\n",
    "    # sql query to insert csv data into table\n",
    "    query = \"insert into books(title, author, year) values (?,?,?)\"\n",
    "\n",
    "    # import csv data into db table\n",
    "    cur.executemany(query, csv_reader)\n",
    "    rows = cur.execute(\"select * from books\").fetchall()\n",
    "    for i in rows:\n",
    "        print(i)\n",
    "\n",
    "    # committing changes and close connection\n",
    "#db1.commit()\n",
    "#db1.close()"
   ]
  },
  {
   "cell_type": "markdown",
   "id": "aae21e5d",
   "metadata": {},
   "source": [
    "## 6. Select and print the title column from the book table in alphabetical order."
   ]
  },
  {
   "cell_type": "code",
   "execution_count": 13,
   "id": "1ed39d4e",
   "metadata": {},
   "outputs": [
    {
     "name": "stdout",
     "output_type": "stream",
     "text": [
      "('Perdido Street Station',)\n",
      "('Small Gods',)\n",
      "('The Spellman Files',)\n",
      "('The Weirdstone of Brisingamen',)\n",
      "('Thud!',)\n"
     ]
    }
   ],
   "source": [
    "row = cur.execute(\"select title from books order by title\").fetchall()\n",
    "for i in row:\n",
    "    print(i)"
   ]
  },
  {
   "cell_type": "markdown",
   "id": "d605a146",
   "metadata": {},
   "source": [
    "## 7. From the book table, select and print all columns in the order of publication."
   ]
  },
  {
   "cell_type": "code",
   "execution_count": 14,
   "id": "cb867934",
   "metadata": {},
   "outputs": [
    {
     "name": "stdout",
     "output_type": "stream",
     "text": [
      "('The Weirdstone of Brisingamen', 'Alan Garner', 1960)\n",
      "('Small Gods', 'Terry Pratchett', 1992)\n",
      "('Perdido Street Station', 'China Miéville', 2000)\n",
      "('Thud!', 'Terry Pratchett', 2005)\n",
      "('The Spellman Files', 'Lisa Lutz', 2007)\n"
     ]
    }
   ],
   "source": [
    "row = cur.execute(\"select * from books order by year\").fetchall()\n",
    "for i in row:\n",
    "    print(i)"
   ]
  },
  {
   "cell_type": "markdown",
   "id": "73f03544",
   "metadata": {},
   "source": [
    "## 8. Use the sqlalchemy module to connect to the sqlite3 database books.db that you just made in exercise 6."
   ]
  },
  {
   "cell_type": "code",
   "execution_count": 15,
   "id": "9ca379d6",
   "metadata": {},
   "outputs": [
    {
     "data": {
      "text/plain": [
       "Engine(sqlite:///books1.db)"
      ]
     },
     "execution_count": 15,
     "metadata": {},
     "output_type": "execute_result"
    }
   ],
   "source": [
    "import sqlalchemy\n",
    "import pandas as pd\n",
    "\n",
    "dbEngine = sqlalchemy.create_engine('sqlite:///books1.db')\n",
    "dbEngine"
   ]
  },
  {
   "cell_type": "markdown",
   "id": "1108f019",
   "metadata": {},
   "source": [
    "## 9. Install the Redis server and the Python redis library (pip install redis) on your computer. \n",
    "### Create a Redis hash called test with the fields count (1) and name ('Fester Bestertester'). Print all the fields for test."
   ]
  },
  {
   "cell_type": "code",
   "execution_count": 17,
   "id": "da91279a",
   "metadata": {},
   "outputs": [
    {
     "name": "stdout",
     "output_type": "stream",
     "text": [
      "Requirement already satisfied: redis in c:\\users\\anjik\\anaconda3\\lib\\site-packages (4.4.1)\n",
      "Requirement already satisfied: async-timeout>=4.0.2 in c:\\users\\anjik\\anaconda3\\lib\\site-packages (from redis) (4.0.2)\n"
     ]
    },
    {
     "name": "stderr",
     "output_type": "stream",
     "text": [
      "'DOSKEY' is not recognized as an internal or external command,\n",
      "operable program or batch file.\n"
     ]
    }
   ],
   "source": [
    "!pip install redis"
   ]
  },
  {
   "cell_type": "code",
   "execution_count": null,
   "id": "2616e4da",
   "metadata": {},
   "outputs": [],
   "source": [
    "import redis\n",
    "conn = redis.Redis()\n",
    "conn.delete('test')\n",
    "conn.hmset('test', {'count': 1, 'name': 'Fester Bestertester'})\n",
    "conn.hgetall('test')"
   ]
  },
  {
   "cell_type": "markdown",
   "id": "9661ce1c",
   "metadata": {},
   "source": [
    "## 10. Increment the count field of test and print it."
   ]
  },
  {
   "cell_type": "code",
   "execution_count": null,
   "id": "432bd654",
   "metadata": {},
   "outputs": [],
   "source": [
    "conn.hincrby('test', 'count', 1)\n",
    "conn.hget('test', 'count')"
   ]
  }
 ],
 "metadata": {
  "kernelspec": {
   "display_name": "Python 3 (ipykernel)",
   "language": "python",
   "name": "python3"
  },
  "language_info": {
   "codemirror_mode": {
    "name": "ipython",
    "version": 3
   },
   "file_extension": ".py",
   "mimetype": "text/x-python",
   "name": "python",
   "nbconvert_exporter": "python",
   "pygments_lexer": "ipython3",
   "version": "3.9.13"
  }
 },
 "nbformat": 4,
 "nbformat_minor": 5
}
