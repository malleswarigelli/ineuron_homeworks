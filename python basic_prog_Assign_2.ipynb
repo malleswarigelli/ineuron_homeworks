{
 "cells": [
  {
   "cell_type": "raw",
   "id": "4d8adfdc",
   "metadata": {},
   "source": [
    "1. Write a Python program to convert kilometers to miles?\n",
    "2. Write a Python program to convert Celsius to Fahrenheit?\n",
    "3. Write a Python program to display calendar?\n",
    "4. Write a Python program to solve quadratic equation?\n",
    "5. Write a Python program to swap two variables without temp variable?"
   ]
  },
  {
   "cell_type": "code",
   "execution_count": 14,
   "id": "517761b4",
   "metadata": {},
   "outputs": [
    {
     "name": "stdout",
     "output_type": "stream",
     "text": [
      "Enter distance in Kilo meters: 3\n",
      "Miles distance is: 1.9 miles\n"
     ]
    }
   ],
   "source": [
    "# 1.Write a Python program to convert kilometers to miles?\n",
    "km = int(input('Enter distance in Kilo meters: '))\n",
    "miles = km * 0.62137\n",
    "print('Miles distance is:',round(miles,1),'miles')"
   ]
  },
  {
   "cell_type": "code",
   "execution_count": 12,
   "id": "1df7004b",
   "metadata": {},
   "outputs": [
    {
     "name": "stdout",
     "output_type": "stream",
     "text": [
      "Enter temp in Celcius: 26\n",
      "Fahrenheit temp is: 78.8 F\n"
     ]
    }
   ],
   "source": [
    "# 2.Write a Python program to convert Celsius to Fahrenheit?\n",
    "celcius = int(input('Enter temp in Celcius: '))\n",
    "foren = celcius * (9/5)+32\n",
    "print('Fahrenheit temp is:',round(foren,1),'F')"
   ]
  },
  {
   "cell_type": "code",
   "execution_count": 22,
   "id": "13422f2b",
   "metadata": {},
   "outputs": [
    {
     "name": "stdout",
     "output_type": "stream",
     "text": [
      "Enter year:2016\n",
      "Enter month:11\n",
      "   \n",
      "   November 2016\n",
      "Mo Tu We Th Fr Sa Su\n",
      "    1  2  3  4  5  6\n",
      " 7  8  9 10 11 12 13\n",
      "14 15 16 17 18 19 20\n",
      "21 22 23 24 25 26 27\n",
      "28 29 30\n",
      "\n"
     ]
    }
   ],
   "source": [
    "# 3. Write a Python program to display calendar?\n",
    "import calendar\n",
    "\n",
    "year = int(input('Enter year:'))\n",
    "month = int(input('Enter month:'))\n",
    "print('   ')\n",
    "print(calendar.month(year,month))"
   ]
  },
  {
   "cell_type": "code",
   "execution_count": 29,
   "id": "1f5ebf91",
   "metadata": {},
   "outputs": [
    {
     "name": "stdout",
     "output_type": "stream",
     "text": [
      "The solution are (-3+0j) and (-2+0j)\n"
     ]
    }
   ],
   "source": [
    "# 4. Solve the quadratic equation ax**2 + bx + c = 0\n",
    "\n",
    "# import complex math module\n",
    "import cmath\n",
    "\n",
    "a = 1\n",
    "b = 5\n",
    "c = 6\n",
    "\n",
    "# calculate the discriminant\n",
    "d = (b**2) - (4*a*c)\n",
    "\n",
    "# find two solutions\n",
    "sol1 = (-b-cmath.sqrt(d))/(2*a)\n",
    "sol2 = (-b+cmath.sqrt(d))/(2*a)\n",
    "\n",
    "print('The solution are {0} and {1}'.format(sol1,sol2))"
   ]
  },
  {
   "cell_type": "code",
   "execution_count": 26,
   "id": "4187221c",
   "metadata": {},
   "outputs": [
    {
     "name": "stdout",
     "output_type": "stream",
     "text": [
      "Enter first variable value:10\n",
      "Enter second variable value:20\n",
      "After swapping......\n",
      "First variable X value is: 20\n",
      "Second variable y value is: 10\n"
     ]
    }
   ],
   "source": [
    "#  5. Write a Python program to swap two variables without temp variable?\n",
    "\n",
    "X = int(input('Enter first variable value:'))\n",
    "y = int(input('Enter second variable value:'))\n",
    "X = X+y\n",
    "y = X-y\n",
    "X = X-y\n",
    "print('After swapping......')\n",
    "print('First variable X value is:', X)\n",
    "print('Second variable y value is:', y)"
   ]
  }
 ],
 "metadata": {
  "kernelspec": {
   "display_name": "Python 3 (ipykernel)",
   "language": "python",
   "name": "python3"
  },
  "language_info": {
   "codemirror_mode": {
    "name": "ipython",
    "version": 3
   },
   "file_extension": ".py",
   "mimetype": "text/x-python",
   "name": "python",
   "nbconvert_exporter": "python",
   "pygments_lexer": "ipython3",
   "version": "3.9.13"
  }
 },
 "nbformat": 4,
 "nbformat_minor": 5
}
