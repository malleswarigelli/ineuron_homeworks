{
 "cells": [
  {
   "cell_type": "code",
   "execution_count": 15,
   "id": "95d7ed1e",
   "metadata": {},
   "outputs": [
    {
     "name": "stdout",
     "output_type": "stream",
     "text": [
      "120\n",
      "24\n"
     ]
    }
   ],
   "source": [
    "'''\n",
    "1. Write a Python Program to Find the Factorial of a Number?\n",
    "'''\n",
    "def factorial(n):\n",
    "    lst = []\n",
    "    for i in range(n+1):\n",
    "        factor = n-i\n",
    "        if factor != 0:\n",
    "            lst.append(factor)\n",
    "  \n",
    "    result = 1\n",
    "    for fac in lst:\n",
    "        result = result * fac\n",
    "    return result\n",
    "print(factorial(5))\n",
    "print(factorial(4))"
   ]
  },
  {
   "cell_type": "code",
   "execution_count": 20,
   "id": "c420baa1",
   "metadata": {},
   "outputs": [
    {
     "name": "stdout",
     "output_type": "stream",
     "text": [
      "Display multiplication table of 13\n",
      "13 X 1 = 13\n",
      "13 X 2 = 26\n",
      "13 X 3 = 39\n",
      "13 X 4 = 52\n",
      "13 X 5 = 65\n",
      "13 X 6 = 78\n",
      "13 X 7 = 91\n",
      "13 X 8 = 104\n",
      "13 X 9 = 117\n",
      "13 X 10 = 130\n"
     ]
    }
   ],
   "source": [
    "'''\n",
    "2. Write a Python Program to Display the multiplication Table?\n",
    "'''\n",
    "num = int(input('Display multiplication table of '))\n",
    "\n",
    "for i in range(1, 11):\n",
    "    print(num, 'X', i, '=', num * i)"
   ]
  },
  {
   "cell_type": "code",
   "execution_count": 14,
   "id": "ef2fbbb2",
   "metadata": {},
   "outputs": [
    {
     "name": "stdout",
     "output_type": "stream",
     "text": [
      "1 1 2 3 5 8 13 21 34 55 "
     ]
    }
   ],
   "source": [
    "'''\n",
    "3. Write a Python Program to Print the Fibonacci sequence?\n",
    "'''\n",
    "def fibonacci_rec(n):\n",
    "    if n <=1:\n",
    "        return 1\n",
    "    else:\n",
    "        return(fibonacci_rec(n-1)+fibonacci_rec(n-2))\n",
    "\n",
    "nterms = 10\n",
    "if nterms>=0:\n",
    "    for i in range(nterms):\n",
    "        print(fibonacci_rec(i), end=' ')"
   ]
  },
  {
   "cell_type": "code",
   "execution_count": 13,
   "id": "1219f162",
   "metadata": {},
   "outputs": [
    {
     "name": "stdout",
     "output_type": "stream",
     "text": [
      "enter lower num:153\n",
      "num is Armstrong number\n"
     ]
    }
   ],
   "source": [
    "'''\n",
    "4. Write a Python Program to Check Armstrong Number?\n",
    "'''\n",
    "\n",
    "num = int(input('enter lower num:'))\n",
    "\n",
    "power = len(str(num)) # power of \n",
    "sum = 0\n",
    "temp = num\n",
    "\n",
    "while temp > 0:\n",
    "    digit = temp % 10\n",
    "    sum += digit ** power\n",
    "    temp //= 10\n",
    "\n",
    "if num == sum:\n",
    "    print('num is Armstrong number')\n",
    "else:\n",
    "    print('num is not Armstrong number')"
   ]
  },
  {
   "cell_type": "code",
   "execution_count": 11,
   "id": "3391eb7c",
   "metadata": {},
   "outputs": [
    {
     "name": "stdout",
     "output_type": "stream",
     "text": [
      "enter lower num:50\n",
      "enter upper num:500\n",
      "153\n",
      "370\n",
      "371\n",
      "407\n"
     ]
    }
   ],
   "source": [
    "'''\n",
    "5. Write a Python Program to Find Armstrong Number in an Interval?\n",
    "'''\n",
    "lower = int(input('enter lower num:'))\n",
    "upper = int(input('enter upper num:'))\n",
    "\n",
    "for num in range(lower, upper + 1):\n",
    "    power = len(str(num)) # power of \n",
    "    \n",
    "    sum = 0\n",
    "    \n",
    "    temp = num\n",
    "\n",
    "    while temp > 0:\n",
    "        digit = temp % 10\n",
    "        sum += digit ** power\n",
    "        temp //= 10\n",
    "\n",
    "    if num == sum:\n",
    "        print(num)"
   ]
  },
  {
   "cell_type": "code",
   "execution_count": 3,
   "id": "2e2b38e0",
   "metadata": {},
   "outputs": [
    {
     "data": {
      "text/plain": [
       "55"
      ]
     },
     "execution_count": 3,
     "metadata": {},
     "output_type": "execute_result"
    }
   ],
   "source": [
    "'''\n",
    "6. Write a Python Program to Find the Sum of Natural Numbers?\n",
    "'''\n",
    "def sum(n):\n",
    "    s = 0\n",
    "    for i in range(1,n+1):\n",
    "        s += i\n",
    "    return s\n",
    "sum(10)"
   ]
  }
 ],
 "metadata": {
  "kernelspec": {
   "display_name": "Python 3 (ipykernel)",
   "language": "python",
   "name": "python3"
  },
  "language_info": {
   "codemirror_mode": {
    "name": "ipython",
    "version": 3
   },
   "file_extension": ".py",
   "mimetype": "text/x-python",
   "name": "python",
   "nbconvert_exporter": "python",
   "pygments_lexer": "ipython3",
   "version": "3.9.13"
  }
 },
 "nbformat": 4,
 "nbformat_minor": 5
}
