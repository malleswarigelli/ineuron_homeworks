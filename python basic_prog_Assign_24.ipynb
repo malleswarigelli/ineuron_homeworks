{
 "cells": [
  {
   "cell_type": "code",
   "execution_count": 19,
   "id": "26d9fe52",
   "metadata": {},
   "outputs": [
    {
     "name": "stdout",
     "output_type": "stream",
     "text": [
      "[1, 2, 3, 40]\n",
      "[1, 2, 3]\n",
      "[1, 2, 3, 40, 5, 6, 7, 80, 9, 10, 11, 120, 13, 14, 15, 160, 17, 18, 19, 200, 21, 22, 23, 240, 25]\n"
     ]
    }
   ],
   "source": [
    "'''Question1\n",
    "Create a function that takes an integer and returns a list from 1 to the given number, where:\n",
    "If the number can be divided evenly by 4, amplify it by 10 (i.e. return 10 times the number).\n",
    "If the number cannot be divided evenly by 4, simply return the number.\n",
    "Examples\n",
    "amplify(4) ➞ [1, 2, 3, 40]\n",
    "\n",
    "amplify(3) ➞ [1, 2, 3]\n",
    "\n",
    "amplify(25) ➞ [1, 2, 3, 40, 5, 6, 7, 80, 9, 10, 11, 120, 13, 14, 15, 160, 17, 18, 19, 200, 21, 22, 23, 240, 25]\n",
    "Notes\n",
    "The given integer will always be equal to or greater than 1.\n",
    "Include the number (see example above).\n",
    "To perform this problem with its intended purpose, try doing it with list comprehensions. If that's too difficult, just solve the challenge any way you can.\n",
    "'''\n",
    "\n",
    "\n",
    "def amplify(num):\n",
    "    '''function takes int =>1 as input, returns list of range of integers from 1 to int; if int divisable by 4 with 0 reminder, returns 10 times the int otherwise, return the int'''\n",
    "    \n",
    "    lst = []\n",
    "    for i in range(1, num+1):\n",
    "        \n",
    "        if i % 4 == 0:\n",
    "            i = i*10\n",
    "            lst.append(i)\n",
    "        else:\n",
    "            lst.append(i)\n",
    "    return lst\n",
    "        \n",
    "print(amplify(4))\n",
    "print(amplify(3))\n",
    "print(amplify(25))"
   ]
  },
  {
   "cell_type": "code",
   "execution_count": 40,
   "id": "7f97a077",
   "metadata": {},
   "outputs": [
    {
     "name": "stdout",
     "output_type": "stream",
     "text": [
      "7\n",
      "0.77\n",
      "0\n"
     ]
    }
   ],
   "source": [
    "'''Question2\n",
    "Create a function that takes a list of numbers and return the number that is unique.\n",
    "Examples\n",
    "unique([3, 3, 3, 7, 3, 3]) ➞ 7\n",
    "unique([0, 0, 0.77, 0, 0]) ➞ 0.77\n",
    "unique([0, 1, 1, 1, 1, 1, 1, 1]) ➞ 0\n",
    "Notes\n",
    "Test cases will always have exactly one unique number while all others are the same.'''\n",
    "\n",
    "def unique(*args):\n",
    "    'function takes list input and returns unique value from list'\n",
    "   \n",
    "    for lst in args:\n",
    "        for ele in lst:\n",
    "            if lst.count(ele)<=1:\n",
    "                unique_val = ele\n",
    "                \n",
    "            else:\n",
    "                pass\n",
    "        return unique_val\n",
    "\n",
    "print(unique([3, 3, 3, 7, 3, 3]))\n",
    "print(unique([0, 0, 0.77, 0, 0]))\n",
    "print(unique([0, 1, 1, 1, 1, 1, 1, 1]))"
   ]
  },
  {
   "cell_type": "code",
   "execution_count": 48,
   "id": "4987f4a7",
   "metadata": {},
   "outputs": [
    {
     "name": "stdout",
     "output_type": "stream",
     "text": [
      "380.1\n",
      "27.9\n"
     ]
    }
   ],
   "source": [
    "'''Question3\n",
    "Your task is to create a Circle constructor that creates a circle with a radius provided by an\n",
    "argument. The circles constructed must have two getters getArea() (PIr^2) and\n",
    "getPerimeter() (2PI*r) which give both respective areas and perimeter (circumference).\n",
    "\n",
    "For help with this class, I have provided you with a Rectangle constructor which you can use\n",
    "as a base example.\n",
    "Examples\n",
    "circy = Circle(11)\n",
    "circy.getArea()\n",
    "# Should return 380.132711084365\n",
    "circy = Circle(4.44)\n",
    "circy.getPerimeter()\n",
    "# Should return 27.897342763877365\n",
    "\n",
    "Notes\n",
    "Round results up to the nearest integer.\n",
    "\n",
    "'''\n",
    "\n",
    "import math\n",
    "class Circle:\n",
    "    '''Circle class'''\n",
    "    \n",
    "    # constructor\n",
    "    def __init__(self, radius):\n",
    "        self.radius = radius\n",
    "        \n",
    "    # getter, setter of radius\n",
    "    def setRadius(self, radius):\n",
    "        self.radius = radius\n",
    "    def getRadius(self):\n",
    "        return self.radius\n",
    "    \n",
    "    # getarea, getperimeter\n",
    "    def getArea(self):\n",
    "        return math.pi * self.radius * self.radius\n",
    "    def getPerimeter(self):\n",
    "        return 2*math.pi*self.radius\n",
    "\n",
    "def main():\n",
    "    # create object\n",
    "    circy = Circle(11)\n",
    "    area = circy.getArea()\n",
    "    print(round(area,1))\n",
    "    \n",
    "    circy = Circle(4.44)\n",
    "    perimeter = circy.getPerimeter()\n",
    "    print(round(perimeter,1))\n",
    "main()"
   ]
  },
  {
   "cell_type": "code",
   "execution_count": 58,
   "id": "2413f704",
   "metadata": {},
   "outputs": [
    {
     "name": "stdout",
     "output_type": "stream",
     "text": [
      "['Apple', 'Google', 'Microsoft']\n",
      "['Raphael', 'Leonardo', 'Donatello', 'Michelangelo']\n",
      "['Jung', 'Turing', 'Einstein']\n"
     ]
    }
   ],
   "source": [
    "'''Question4\n",
    "Create a function that takes a list of strings and return a list, sorted from shortest to longest.\n",
    "Examples\n",
    "sort_by_length([\"Google\", \"Apple\", \"Microsoft\"])\n",
    "➞ ['Apple','Google',Microsoft']\n",
    "sort_by_length(['Leonardo', 'Michelangelo', 'Raphael', 'Donatello'])\n",
    "➞ ['Raphael','Leonardo','Donatello','Michelangelo']\n",
    "sort_by_length(['Turing','Einstein','Jung'])\n",
    "➞ ['Jung','Turing','Einstein']\n",
    "Notes\n",
    "All test cases contain lists with strings of different lengths, so you won&#39;t have to deal with\n",
    "multiple strings of the same length.'''\n",
    "\n",
    "def sort_by_length(lst):\n",
    "    '''function sorts list of strings, return shortest to longest words'''\n",
    "    lst2 = sorted(lst, key=len)\n",
    "    return lst2\n",
    "\n",
    "\n",
    "print(sort_by_length([\"Google\", \"Apple\", \"Microsoft\"]))\n",
    "print(sort_by_length(['Leonardo', 'Michelangelo', 'Raphael', 'Donatello']))\n",
    "print(sort_by_length(['Turing','Einstein','Jung']))"
   ]
  },
  {
   "cell_type": "code",
   "execution_count": 79,
   "id": "4fcc50e3",
   "metadata": {},
   "outputs": [
    {
     "name": "stdout",
     "output_type": "stream",
     "text": [
      "True\n"
     ]
    }
   ],
   "source": [
    "'''Question5\n",
    "Create a function that validates whether three given integers form a Pythagorean triplet. The\n",
    "sum of the squares of the two smallest integers must equal the square of the largest number to\n",
    "be validated.\n",
    "\n",
    "Examples\n",
    "is_triplet(3, 4, 5) ➞ True\n",
    "# 3² + 4² = 25\n",
    "# 5² = 25\n",
    "is_triplet(13, 5, 12) ➞ True\n",
    "# 5² + 12² = 169\n",
    "# 13² = 169\n",
    " ➞ False\n",
    "# 1² + 2² = 5\n",
    "# 3² = 9\n",
    "Notes\n",
    "Numbers may not be given in a sorted order.\n",
    "\n",
    "'''\n",
    "\n",
    "def is_triplet(*args):\n",
    "    # sort the values in ascending order\n",
    "    nums = tuple(sorted(args))\n",
    "    \n",
    "    if (nums[0]**2 + nums[1]**2) == nums[2]**2:\n",
    "        print('True')\n",
    "    else:\n",
    "        print('False')\n",
    "is_triplet(13, 5, 12)    "
   ]
  }
 ],
 "metadata": {
  "kernelspec": {
   "display_name": "Python 3 (ipykernel)",
   "language": "python",
   "name": "python3"
  },
  "language_info": {
   "codemirror_mode": {
    "name": "ipython",
    "version": 3
   },
   "file_extension": ".py",
   "mimetype": "text/x-python",
   "name": "python",
   "nbconvert_exporter": "python",
   "pygments_lexer": "ipython3",
   "version": "3.9.13"
  }
 },
 "nbformat": 4,
 "nbformat_minor": 5
}
