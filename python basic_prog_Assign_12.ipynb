{
 "cells": [
  {
   "cell_type": "raw",
   "id": "30ab74f4",
   "metadata": {},
   "source": [
    "Write a Python program to Extract Unique values dictionary values?\n",
    "Write a Python program to find the sum of all items in a dictionary?\n",
    "Write a Python program to Merging two Dictionaries?\n",
    "Write a Python program to convert key-values list to flat dictionary?\n",
    "Write a Python program to insertion at the beginning in OrderedDict?\n",
    "Write a Python program to check order of character in string using OrderedDict()?\n",
    "Write a Python program to sort Python Dictionaries by Key or Value?\n"
   ]
  },
  {
   "cell_type": "code",
   "execution_count": 9,
   "id": "752723ef",
   "metadata": {},
   "outputs": [
    {
     "data": {
      "text/plain": [
       "{'brand': ['Ford', 'Tayota', 'Nissan'],\n",
       " 'model': ['Mustang', 'Camry', 'Rogue'],\n",
       " 'year': [1964, 2006, 2022],\n",
       " 'price': [46000, 46000, 46000]}"
      ]
     },
     "execution_count": 9,
     "metadata": {},
     "output_type": "execute_result"
    }
   ],
   "source": [
    "dictionary = {\"brand\": [\"Ford\",'Tayota','Nissan'],\n",
    "              \"model\": [\"Mustang\",\"Camry\",\"Rogue\"],\n",
    "               \"year\": [1964,2006,2022],\n",
    "              \"price\": [46000,46000,46000]}\n",
    "dictionary"
   ]
  },
  {
   "cell_type": "code",
   "execution_count": 31,
   "id": "81a5e429",
   "metadata": {},
   "outputs": [
    {
     "name": "stdout",
     "output_type": "stream",
     "text": [
      "['Tayota', 2022, 'Rogue', 1964, 'Mustang', 46000, 'Ford', 'Nissan', 2006, 'Camry']\n"
     ]
    }
   ],
   "source": [
    "'''\n",
    "1. Write a Python program to Extract Unique values dictionary values?\n",
    "'''\n",
    "dic_vals = []\n",
    "for val in dictionary.values():\n",
    "    for ele in val:\n",
    "        dic_vals.append(ele)\n",
    "print(list(set(dic_vals)))"
   ]
  },
  {
   "cell_type": "code",
   "execution_count": 33,
   "id": "1d00d375",
   "metadata": {},
   "outputs": [
    {
     "name": "stdout",
     "output_type": "stream",
     "text": [
      "sum of cars price: $ 138000\n"
     ]
    }
   ],
   "source": [
    "'''\n",
    "2. Write a Python program to find the sum of all items in a dictionary?\n",
    "'''\n",
    "sum_price = 0\n",
    "for val in dictionary['price']:\n",
    "    sum_price += val\n",
    "print('sum of cars price:', '$',sum_price)"
   ]
  },
  {
   "cell_type": "code",
   "execution_count": 46,
   "id": "d3187a1b",
   "metadata": {},
   "outputs": [
    {
     "data": {
      "text/plain": [
       "{'brand': ['Ford', 'Tayota', 'Nissan'],\n",
       " 'model': ['Mustang', 'Camry', 'Rogue'],\n",
       " 'year': [2014, 2006, 2022],\n",
       " 'price': [46000, 46000, 46000],\n",
       " 'service': ['iowa', 'kansas', 'missouri'],\n",
       " 'Id': [200, 487, 386]}"
      ]
     },
     "execution_count": 46,
     "metadata": {},
     "output_type": "execute_result"
    }
   ],
   "source": [
    "'''\n",
    "3. Write a Python program to Merging two Dictionaries?\n",
    "'''\n",
    "\n",
    "dictionary = {\"brand\": [\"Ford\",'Tayota','Nissan'],\n",
    "              \"model\": [\"Mustang\",\"Camry\",\"Rogue\"],\n",
    "               \"year\": [2014,2006,2022],\n",
    "              \"price\": [46000,46000,46000]}\n",
    "dictionary1 = {'service': ['iowa', 'kansas', 'missouri'],\n",
    "              'Id': [200,487,386]}\n",
    "\n",
    "dict3 = {**dictionary,**dictionary1}\n",
    "dict3"
   ]
  },
  {
   "cell_type": "code",
   "execution_count": 48,
   "id": "91d2d480",
   "metadata": {},
   "outputs": [
    {
     "data": {
      "text/plain": [
       "{'Ford': 2014, 'Tayota': 2006, 'Nissan': 2022}"
      ]
     },
     "execution_count": 48,
     "metadata": {},
     "output_type": "execute_result"
    }
   ],
   "source": [
    "'''\n",
    "4. Write a Python program to convert key-values list to flat dictionary\n",
    "'''\n",
    "dictionary = {\"brand\": [\"Ford\",'Tayota','Nissan'],\n",
    "              \"model\": [\"Mustang\",\"Camry\",\"Rogue\"],\n",
    "               \"year\": [2014,2006,2022],\n",
    "              \"price\": [46000,46000,46000]}\n",
    "flat_dic = dict(zip(dictionary['brand'],dictionary['year']))\n",
    "flat_dic"
   ]
  },
  {
   "cell_type": "code",
   "execution_count": 56,
   "id": "87bb2fae",
   "metadata": {},
   "outputs": [
    {
     "data": {
      "text/plain": [
       "OrderedDict([('service', ['iowa', 'kansas', 'missouri']),\n",
       "             ('brand', ['Ford', 'Tayota', 'Nissan']),\n",
       "             ('model', ['Mustang', 'Camry', 'Rogue']),\n",
       "             ('year', [2014, 2006, 2022]),\n",
       "             ('price', [46000, 46000, 46000])])"
      ]
     },
     "execution_count": 56,
     "metadata": {},
     "output_type": "execute_result"
    }
   ],
   "source": [
    "'''\n",
    "5. Write a Python program to insertion at the beginning in OrderedDict?\n",
    "\n",
    "'''\n",
    "from collections import OrderedDict\n",
    "dic = OrderedDict(dictionary) # assign dictionary to OrderedDict to retain order\n",
    "dic.update({'service':['iowa', 'kansas', 'missouri']}) # adds new key-val at end of ordereddict\n",
    "dic.move_to_end('service', last=False) # moving to beginning\n",
    "dic"
   ]
  },
  {
   "cell_type": "code",
   "execution_count": 51,
   "id": "3fc48d48",
   "metadata": {},
   "outputs": [
    {
     "name": "stdout",
     "output_type": "stream",
     "text": [
      "{'brand': ['Ford', 'Tayota', 'Nissan'], 'model': ['Mustang', 'Camry', 'Rogue'], 'price': [46000, 46000, 46000], 'year': [2014, 2006, 2022]}\n"
     ]
    }
   ],
   "source": [
    "'''\n",
    "7. Write a Python program to sort Python Dictionaries by Key or Value?\n",
    "'''\n",
    "# sort by keys\n",
    "sorted_key_dict = {}\n",
    "for i in sorted(dictionary):\n",
    "    sorted_key_dict[i] = dictionary[i]\n",
    "print(sorted_key_dict)"
   ]
  },
  {
   "cell_type": "code",
   "execution_count": null,
   "id": "fc725947",
   "metadata": {},
   "outputs": [],
   "source": []
  }
 ],
 "metadata": {
  "kernelspec": {
   "display_name": "Python 3 (ipykernel)",
   "language": "python",
   "name": "python3"
  },
  "language_info": {
   "codemirror_mode": {
    "name": "ipython",
    "version": 3
   },
   "file_extension": ".py",
   "mimetype": "text/x-python",
   "name": "python",
   "nbconvert_exporter": "python",
   "pygments_lexer": "ipython3",
   "version": "3.9.13"
  }
 },
 "nbformat": 4,
 "nbformat_minor": 5
}
