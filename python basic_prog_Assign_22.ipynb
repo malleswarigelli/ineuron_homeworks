{
 "cells": [
  {
   "cell_type": "code",
   "execution_count": 6,
   "id": "301c2581",
   "metadata": {},
   "outputs": [
    {
     "name": "stdout",
     "output_type": "stream",
     "text": [
      "[3, 6, 9]\n",
      "[8]\n",
      "[]\n"
     ]
    }
   ],
   "source": [
    "'''Question1\n",
    "Create a function that takes three parameters where:\n",
    "x is the start of the range (inclusive).\n",
    "y is the end of the range (inclusive).\n",
    "n is the divisor to be checked against.\n",
    "Return an ordered list with numbers in the range that are divisible by the third parameter n.\n",
    "Return an empty list if there are no numbers that are divisible by n.\n",
    "Examples\n",
    "list_operation(1, 10, 3) ➞ [3, 6, 9]\n",
    "list_operation(7, 9, 2) ➞ [8]\n",
    "list_operation(15, 20, 7) ➞ []'''\n",
    "\n",
    "def list_operation(x,y,n):\n",
    "    lst = []\n",
    "    for i in range(x, y+1):\n",
    "        #print(i)\n",
    "        if i % n ==0:\n",
    "            lst.append(i)\n",
    "        else:\n",
    "            pass\n",
    "    return lst\n",
    "        \n",
    "print(list_operation(1, 10, 3)) \n",
    "print(list_operation(7, 9, 2))\n",
    "print(list_operation(15, 20, 7))"
   ]
  },
  {
   "cell_type": "code",
   "execution_count": 14,
   "id": "0731e7fe",
   "metadata": {},
   "outputs": [
    {
     "name": "stdout",
     "output_type": "stream",
     "text": [
      "True\n",
      "False\n",
      "True\n",
      "False\n"
     ]
    }
   ],
   "source": [
    "'''Question2\n",
    "Create a function that takes in two lists and returns True if the second list follows the first list\n",
    "by one element, and False otherwise. In other words, determine if the second list is the first\n",
    "list shifted to the right by 1.\n",
    "Examples\n",
    "simon_says([1, 2], [5, 1]) ➞ True\n",
    "simon_says([1, 2], [5, 5]) ➞ False\n",
    "simon_says([1, 2, 3, 4, 5], [0, 1, 2, 3, 4]) ➞ True\n",
    "simon_says([1, 2, 3, 4, 5], [5, 5, 1, 2, 3]) ➞ False\n",
    "Notes\n",
    " Both input lists will be of the same length, and will have a minimum length of 2.\n",
    " The values of the 0-indexed element in the second list and the n-1th indexed element\n",
    "in the first list do not matter.'''\n",
    "\n",
    "def simon_says(a,b):\n",
    "    for i in range(0,len(a)-1):\n",
    "        a_vals =a [i]\n",
    "    for j in range(1,len(b)):\n",
    "        b_vals = b[j]\n",
    "    if a_vals == b_vals:\n",
    "        return True\n",
    "    else: \n",
    "        return False\n",
    "print(simon_says([1, 2], [5, 1])) \n",
    "print(simon_says([1, 2], [5, 5]))\n",
    "print(simon_says([1, 2, 3, 4, 5], [0, 1, 2, 3, 4]))\n",
    "print(simon_says([1, 2, 3, 4, 5], [5, 5, 1, 2, 3]))"
   ]
  },
  {
   "cell_type": "code",
   "execution_count": 34,
   "id": "5c1db9d5",
   "metadata": {},
   "outputs": [
    {
     "name": "stdout",
     "output_type": "stream",
     "text": [
      "AMS\n",
      "CHLN\n",
      "CJMPRR\n"
     ]
    }
   ],
   "source": [
    "'''Question3\n",
    "A group of friends have decided to start a secret society. The name will be the first letter of\n",
    "each of their names, sorted in alphabetical order.\n",
    "Create a function that takes in a list of names and returns the name of the secret society.\n",
    "\n",
    "Examples\n",
    "society_name(['Adam','Sarah','Malcolm']) ➞ 'AMS';\n",
    "society_name(['Harry','Newt','Luna','Cho']) ➞ 'CHLN'\n",
    "society_name(['Phoebe','Chandler','Rachel','Ross','Monica','Joey'])\n",
    "\n",
    "'''\n",
    "def society_name(lst):\n",
    "    name = ''\n",
    "    for i in lst:\n",
    "        name += i[0]\n",
    "    name = ''.join(sorted(name))\n",
    "    return name\n",
    "        \n",
    "print(society_name(['Adam','Sarah','Malcolm']))\n",
    "print(society_name(['Harry','Newt','Luna','Cho']))\n",
    "print(society_name(['Phoebe','Chandler','Rachel','Ross','Monica','Joey']))"
   ]
  },
  {
   "cell_type": "code",
   "execution_count": 95,
   "id": "0ec630ae",
   "metadata": {},
   "outputs": [
    {
     "name": "stdout",
     "output_type": "stream",
     "text": [
      "True\n",
      "False\n",
      "False\n"
     ]
    }
   ],
   "source": [
    "'''\n",
    "Question4\n",
    "An isogram is a word that has no duplicate letters. Create a function that takes a string and\n",
    "returns either True or False depending on whether or not it is an isogram.\n",
    "Examples\n",
    "is_isogram('Algorism') ➞ True\n",
    "is_isogram('PasSword') ➞ False\n",
    "# Not case sensitive.\n",
    "is_isogram('Consecutive') ➞ False\n",
    "Notes\n",
    " Ignore letter case (should not be case sensitive).\n",
    " All test cases contain valid one word strings.\n",
    "\n",
    "'''\n",
    "\n",
    "def is_isogram(string):\n",
    "    string = string.lower()\n",
    "    # get list of all unique letters from string except ' '\n",
    "    a = [i for i in list(set(list(string))) if i != '']\n",
    "    # get list of all letters except ' '\n",
    "    b = [i for i in list(string) if i != '']\n",
    "    if len(a)==len(b):\n",
    "        return True\n",
    "    else:\n",
    "        return False\n",
    "                          \n",
    "print(is_isogram('Algorism'))\n",
    "print(is_isogram('Passs word'))\n",
    "print(is_isogram('Consecutive'))"
   ]
  },
  {
   "cell_type": "code",
   "execution_count": 97,
   "id": "71ef5ae8",
   "metadata": {},
   "outputs": [
    {
     "name": "stdout",
     "output_type": "stream",
     "text": [
      "True\n",
      "False\n",
      "True\n",
      "True\n"
     ]
    }
   ],
   "source": [
    "'''\n",
    "Question5\n",
    "Create a function that takes a string and returns True or False, depending on whether the\n",
    "characters are in order or not.\n",
    "Examples\n",
    "is_in_order('abc') ➞ True\n",
    "is_in_order('edabit') ➞ False\n",
    "is_in_order('123') ➞ True\n",
    "is_in_order('xyzz' ➞ True\n",
    "Notes\n",
    "You don't have to handle empty strings.\n",
    "\n",
    "'''\n",
    "def is_in_order(string):\n",
    "    string1 = sorted(string)\n",
    "    string2 = []\n",
    "    for i in string:\n",
    "        string2.append(i)\n",
    "    if string2 == string1:\n",
    "        return True\n",
    "    else:\n",
    "        return False\n",
    "\n",
    "print(is_in_order('abc'))\n",
    "print(is_in_order('edabit'))\n",
    "print(is_in_order('123'))\n",
    "print(is_in_order('xyzz'))"
   ]
  }
 ],
 "metadata": {
  "kernelspec": {
   "display_name": "Python 3 (ipykernel)",
   "language": "python",
   "name": "python3"
  },
  "language_info": {
   "codemirror_mode": {
    "name": "ipython",
    "version": 3
   },
   "file_extension": ".py",
   "mimetype": "text/x-python",
   "name": "python",
   "nbconvert_exporter": "python",
   "pygments_lexer": "ipython3",
   "version": "3.9.13"
  }
 },
 "nbformat": 4,
 "nbformat_minor": 5
}
