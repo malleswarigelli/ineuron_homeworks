{
 "cells": [
  {
   "cell_type": "code",
   "execution_count": 6,
   "id": "6047aeb2",
   "metadata": {},
   "outputs": [
    {
     "name": "stdout",
     "output_type": "stream",
     "text": [
      "enter 1st number:14\n",
      "enter 2nd number:7\n",
      "LCM: 14\n"
     ]
    }
   ],
   "source": [
    "'''Write a Python Program to Find LCM?\n",
    "\n",
    "'''\n",
    "a = int(input('enter 1st number:'))\n",
    "b = int(input('enter 2nd number:'))\n",
    "if a>b:\n",
    "    greater_num = a\n",
    "else:\n",
    "    greater_num = b\n",
    "\n",
    "while(True):\n",
    "    if (greater_num % a ==0 and greater_num % b ==0):\n",
    "        lcm = greater_num\n",
    "        break\n",
    "        \n",
    "    greater_num = greater_num +1\n",
    "print('LCM:', lcm)"
   ]
  },
  {
   "cell_type": "code",
   "execution_count": 7,
   "id": "23e4322c",
   "metadata": {},
   "outputs": [
    {
     "name": "stdout",
     "output_type": "stream",
     "text": [
      "6\n"
     ]
    }
   ],
   "source": [
    "'''\n",
    "Write a Python Program to Find HCF?\n",
    "'''\n",
    "def hcf(x, y):\n",
    "    if x>y:\n",
    "        smaller = y\n",
    "    else:\n",
    "        smaller = x\n",
    "    for i in range(1, smaller+1):\n",
    "        if((x % i==0) and (y % i ==0)):\n",
    "            hcf = i\n",
    "    return hcf\n",
    "print(hcf(54,24))"
   ]
  },
  {
   "cell_type": "code",
   "execution_count": 10,
   "id": "d9368805",
   "metadata": {},
   "outputs": [
    {
     "name": "stdout",
     "output_type": "stream",
     "text": [
      "Enter a number:27\n",
      "Binary of number: 0b11011\n",
      "Octal of number: 0o33\n",
      "Hexadecimal of number: 0x1b\n"
     ]
    }
   ],
   "source": [
    "'''\n",
    "Write a Python Program to Convert Decimal to Binary, Octal and Hexadecimal?\n",
    "'''\n",
    "decimal = int(input('Enter a number:'))\n",
    "print('Binary of number:', bin(decimal))\n",
    "print('Octal of number:', oct(decimal))\n",
    "print('Hexadecimal of number:', hex(decimal))"
   ]
  },
  {
   "cell_type": "code",
   "execution_count": 11,
   "id": "0bd7cbe0",
   "metadata": {},
   "outputs": [
    {
     "name": "stdout",
     "output_type": "stream",
     "text": [
      "Enter a character:p\n",
      "ASCII_val: 112\n"
     ]
    }
   ],
   "source": [
    "'''\n",
    "Write a Python Program To Find ASCII value of a character?\n",
    "'''\n",
    "char = input('Enter a character:')\n",
    "print('ASCII_val:', ord(char))"
   ]
  },
  {
   "cell_type": "code",
   "execution_count": null,
   "id": "78b58bcc",
   "metadata": {},
   "outputs": [
    {
     "name": "stdout",
     "output_type": "stream",
     "text": [
      "select operation\n",
      "Add\n",
      "Subtract\n",
      "Multiply\n",
      "Divide\n",
      "your choice(1/2/3/4): 2\n",
      "Enter first number: 25\n",
      "Enter second number: 10\n",
      "25.0 - 10.0 = 15.0\n",
      "your choice(1/2/3/4): 3\n",
      "Enter first number: 60\n",
      "Enter second number: 2\n",
      "60.0 * 2.0 = 120.0\n"
     ]
    }
   ],
   "source": [
    "'''\n",
    "Write a Python Program to Make a Simple Calculator with 4 basic mathematical operations?\n",
    "'''\n",
    "def add(x, y):\n",
    "    return x + y\n",
    "def sub(x, y):\n",
    "    return x - y\n",
    "def mul(x, y):\n",
    "    return x * y\n",
    "def div(x, y):\n",
    "    return x / y\n",
    "print('select operation')\n",
    "print('Add')\n",
    "print('Subtract')\n",
    "print('Multiply')\n",
    "print('Divide')\n",
    "\n",
    "while True:\n",
    "    choice = input('your choice(1/2/3/4): ')\n",
    "    if choice in ('1','2','3','4'):\n",
    "        num1 = float(input('Enter first number: '))\n",
    "        num2 = float(input('Enter second number: '))\n",
    "        \n",
    "        if choice == '1':\n",
    "            print(num1, '+', num2, '=' , add(num1,num2))\n",
    "        elif choice == '2':\n",
    "            print(num1, '-', num2, '=' , sub(num1,num2))\n",
    "        elif choice == '3':\n",
    "            print(num1, '*', num2, '=' , mul(num1,num2))\n",
    "        elif choice == '4':\n",
    "            print(num1, '/', num2, '=' , div(num1,num2))\n",
    "    else:\n",
    "        print('invalid input')"
   ]
  }
 ],
 "metadata": {
  "kernelspec": {
   "display_name": "Python 3 (ipykernel)",
   "language": "python",
   "name": "python3"
  },
  "language_info": {
   "codemirror_mode": {
    "name": "ipython",
    "version": 3
   },
   "file_extension": ".py",
   "mimetype": "text/x-python",
   "name": "python",
   "nbconvert_exporter": "python",
   "pygments_lexer": "ipython3",
   "version": "3.9.13"
  }
 },
 "nbformat": 4,
 "nbformat_minor": 5
}
